{
 "cells": [
  {
   "cell_type": "markdown",
   "metadata": {},
   "source": [
    "# Problem Statement\n",
    "The data given below contains the information about past loan applicants and whether they ‘defaulted’ or not. The aim is to identify patterns which indicate if a person is likely to default, which may be used for taking actions such as denying the loan, reducing the amount of loan, lending (to risky applicants) at a higher interest rate, etc. We have to find out how consumer attributes and loan attributes influence the tendency of default."
   ]
  },
  {
   "cell_type": "code",
   "execution_count": 1,
   "metadata": {},
   "outputs": [],
   "source": [
    "#Importing the necessary Libraries\n",
    "import pandas as pd\n",
    "import numpy as np\n",
    "import seaborn as sns\n",
    "import matplotlib.pyplot as plt\n",
    "%matplotlib inline \n",
    "import warnings\n",
    "warnings.filterwarnings(\"ignore\")"
   ]
  },
  {
   "cell_type": "markdown",
   "metadata": {},
   "source": [
    "## 1. Data Understanding \n",
    "- Read the data\n",
    "- Check the shape of data \n",
    "- check sample data - head, tail and sample\n"
   ]
  },
  {
   "cell_type": "code",
   "execution_count": 2,
   "metadata": {},
   "outputs": [],
   "source": [
    "loan = pd.read_csv(\"loan.csv\")"
   ]
  },
  {
   "cell_type": "code",
   "execution_count": 3,
   "metadata": {},
   "outputs": [
    {
     "data": {
      "text/plain": [
       "(39717, 111)"
      ]
     },
     "execution_count": 3,
     "metadata": {},
     "output_type": "execute_result"
    }
   ],
   "source": [
    "loan.shape"
   ]
  },
  {
   "cell_type": "code",
   "execution_count": 4,
   "metadata": {
    "scrolled": true
   },
   "outputs": [
    {
     "data": {
      "text/html": [
       "<div>\n",
       "<style scoped>\n",
       "    .dataframe tbody tr th:only-of-type {\n",
       "        vertical-align: middle;\n",
       "    }\n",
       "\n",
       "    .dataframe tbody tr th {\n",
       "        vertical-align: top;\n",
       "    }\n",
       "\n",
       "    .dataframe thead th {\n",
       "        text-align: right;\n",
       "    }\n",
       "</style>\n",
       "<table border=\"1\" class=\"dataframe\">\n",
       "  <thead>\n",
       "    <tr style=\"text-align: right;\">\n",
       "      <th></th>\n",
       "      <th>id</th>\n",
       "      <th>member_id</th>\n",
       "      <th>loan_amnt</th>\n",
       "      <th>funded_amnt</th>\n",
       "      <th>funded_amnt_inv</th>\n",
       "      <th>term</th>\n",
       "      <th>int_rate</th>\n",
       "      <th>installment</th>\n",
       "      <th>grade</th>\n",
       "      <th>sub_grade</th>\n",
       "      <th>...</th>\n",
       "      <th>num_tl_90g_dpd_24m</th>\n",
       "      <th>num_tl_op_past_12m</th>\n",
       "      <th>pct_tl_nvr_dlq</th>\n",
       "      <th>percent_bc_gt_75</th>\n",
       "      <th>pub_rec_bankruptcies</th>\n",
       "      <th>tax_liens</th>\n",
       "      <th>tot_hi_cred_lim</th>\n",
       "      <th>total_bal_ex_mort</th>\n",
       "      <th>total_bc_limit</th>\n",
       "      <th>total_il_high_credit_limit</th>\n",
       "    </tr>\n",
       "  </thead>\n",
       "  <tbody>\n",
       "    <tr>\n",
       "      <th>2318</th>\n",
       "      <td>1036474</td>\n",
       "      <td>1266349</td>\n",
       "      <td>7500</td>\n",
       "      <td>7500</td>\n",
       "      <td>7500.0</td>\n",
       "      <td>36 months</td>\n",
       "      <td>15.27%</td>\n",
       "      <td>260.99</td>\n",
       "      <td>C</td>\n",
       "      <td>C4</td>\n",
       "      <td>...</td>\n",
       "      <td>NaN</td>\n",
       "      <td>NaN</td>\n",
       "      <td>NaN</td>\n",
       "      <td>NaN</td>\n",
       "      <td>0.0</td>\n",
       "      <td>0.0</td>\n",
       "      <td>NaN</td>\n",
       "      <td>NaN</td>\n",
       "      <td>NaN</td>\n",
       "      <td>NaN</td>\n",
       "    </tr>\n",
       "    <tr>\n",
       "      <th>4990</th>\n",
       "      <td>892936</td>\n",
       "      <td>1109970</td>\n",
       "      <td>31500</td>\n",
       "      <td>31500</td>\n",
       "      <td>31500.0</td>\n",
       "      <td>60 months</td>\n",
       "      <td>15.96%</td>\n",
       "      <td>765.35</td>\n",
       "      <td>C</td>\n",
       "      <td>C5</td>\n",
       "      <td>...</td>\n",
       "      <td>NaN</td>\n",
       "      <td>NaN</td>\n",
       "      <td>NaN</td>\n",
       "      <td>NaN</td>\n",
       "      <td>0.0</td>\n",
       "      <td>0.0</td>\n",
       "      <td>NaN</td>\n",
       "      <td>NaN</td>\n",
       "      <td>NaN</td>\n",
       "      <td>NaN</td>\n",
       "    </tr>\n",
       "    <tr>\n",
       "      <th>22412</th>\n",
       "      <td>629484</td>\n",
       "      <td>806527</td>\n",
       "      <td>1000</td>\n",
       "      <td>1000</td>\n",
       "      <td>1000.0</td>\n",
       "      <td>60 months</td>\n",
       "      <td>13.35%</td>\n",
       "      <td>22.94</td>\n",
       "      <td>C</td>\n",
       "      <td>C4</td>\n",
       "      <td>...</td>\n",
       "      <td>NaN</td>\n",
       "      <td>NaN</td>\n",
       "      <td>NaN</td>\n",
       "      <td>NaN</td>\n",
       "      <td>0.0</td>\n",
       "      <td>0.0</td>\n",
       "      <td>NaN</td>\n",
       "      <td>NaN</td>\n",
       "      <td>NaN</td>\n",
       "      <td>NaN</td>\n",
       "    </tr>\n",
       "    <tr>\n",
       "      <th>18261</th>\n",
       "      <td>701177</td>\n",
       "      <td>892931</td>\n",
       "      <td>9000</td>\n",
       "      <td>9000</td>\n",
       "      <td>9000.0</td>\n",
       "      <td>60 months</td>\n",
       "      <td>11.11%</td>\n",
       "      <td>196.18</td>\n",
       "      <td>B</td>\n",
       "      <td>B5</td>\n",
       "      <td>...</td>\n",
       "      <td>NaN</td>\n",
       "      <td>NaN</td>\n",
       "      <td>NaN</td>\n",
       "      <td>NaN</td>\n",
       "      <td>1.0</td>\n",
       "      <td>0.0</td>\n",
       "      <td>NaN</td>\n",
       "      <td>NaN</td>\n",
       "      <td>NaN</td>\n",
       "      <td>NaN</td>\n",
       "    </tr>\n",
       "    <tr>\n",
       "      <th>39528</th>\n",
       "      <td>169044</td>\n",
       "      <td>153468</td>\n",
       "      <td>18500</td>\n",
       "      <td>18500</td>\n",
       "      <td>156.7</td>\n",
       "      <td>36 months</td>\n",
       "      <td>10.91%</td>\n",
       "      <td>604.88</td>\n",
       "      <td>C</td>\n",
       "      <td>C3</td>\n",
       "      <td>...</td>\n",
       "      <td>NaN</td>\n",
       "      <td>NaN</td>\n",
       "      <td>NaN</td>\n",
       "      <td>NaN</td>\n",
       "      <td>NaN</td>\n",
       "      <td>0.0</td>\n",
       "      <td>NaN</td>\n",
       "      <td>NaN</td>\n",
       "      <td>NaN</td>\n",
       "      <td>NaN</td>\n",
       "    </tr>\n",
       "  </tbody>\n",
       "</table>\n",
       "<p>5 rows × 111 columns</p>\n",
       "</div>"
      ],
      "text/plain": [
       "            id  member_id  loan_amnt  funded_amnt  funded_amnt_inv  \\\n",
       "2318   1036474    1266349       7500         7500           7500.0   \n",
       "4990    892936    1109970      31500        31500          31500.0   \n",
       "22412   629484     806527       1000         1000           1000.0   \n",
       "18261   701177     892931       9000         9000           9000.0   \n",
       "39528   169044     153468      18500        18500            156.7   \n",
       "\n",
       "             term int_rate  installment grade sub_grade  ...  \\\n",
       "2318    36 months   15.27%       260.99     C        C4  ...   \n",
       "4990    60 months   15.96%       765.35     C        C5  ...   \n",
       "22412   60 months   13.35%        22.94     C        C4  ...   \n",
       "18261   60 months   11.11%       196.18     B        B5  ...   \n",
       "39528   36 months   10.91%       604.88     C        C3  ...   \n",
       "\n",
       "      num_tl_90g_dpd_24m num_tl_op_past_12m pct_tl_nvr_dlq  percent_bc_gt_75  \\\n",
       "2318                 NaN                NaN            NaN               NaN   \n",
       "4990                 NaN                NaN            NaN               NaN   \n",
       "22412                NaN                NaN            NaN               NaN   \n",
       "18261                NaN                NaN            NaN               NaN   \n",
       "39528                NaN                NaN            NaN               NaN   \n",
       "\n",
       "      pub_rec_bankruptcies tax_liens tot_hi_cred_lim total_bal_ex_mort  \\\n",
       "2318                   0.0       0.0             NaN               NaN   \n",
       "4990                   0.0       0.0             NaN               NaN   \n",
       "22412                  0.0       0.0             NaN               NaN   \n",
       "18261                  1.0       0.0             NaN               NaN   \n",
       "39528                  NaN       0.0             NaN               NaN   \n",
       "\n",
       "      total_bc_limit total_il_high_credit_limit  \n",
       "2318             NaN                        NaN  \n",
       "4990             NaN                        NaN  \n",
       "22412            NaN                        NaN  \n",
       "18261            NaN                        NaN  \n",
       "39528            NaN                        NaN  \n",
       "\n",
       "[5 rows x 111 columns]"
      ]
     },
     "execution_count": 4,
     "metadata": {},
     "output_type": "execute_result"
    }
   ],
   "source": [
    "loan.sample(5)"
   ]
  },
  {
   "cell_type": "code",
   "execution_count": 5,
   "metadata": {},
   "outputs": [
    {
     "data": {
      "text/html": [
       "<div>\n",
       "<style scoped>\n",
       "    .dataframe tbody tr th:only-of-type {\n",
       "        vertical-align: middle;\n",
       "    }\n",
       "\n",
       "    .dataframe tbody tr th {\n",
       "        vertical-align: top;\n",
       "    }\n",
       "\n",
       "    .dataframe thead th {\n",
       "        text-align: right;\n",
       "    }\n",
       "</style>\n",
       "<table border=\"1\" class=\"dataframe\">\n",
       "  <thead>\n",
       "    <tr style=\"text-align: right;\">\n",
       "      <th></th>\n",
       "      <th>id</th>\n",
       "      <th>member_id</th>\n",
       "      <th>loan_amnt</th>\n",
       "      <th>funded_amnt</th>\n",
       "      <th>funded_amnt_inv</th>\n",
       "      <th>term</th>\n",
       "      <th>int_rate</th>\n",
       "      <th>installment</th>\n",
       "      <th>grade</th>\n",
       "      <th>sub_grade</th>\n",
       "      <th>...</th>\n",
       "      <th>num_tl_90g_dpd_24m</th>\n",
       "      <th>num_tl_op_past_12m</th>\n",
       "      <th>pct_tl_nvr_dlq</th>\n",
       "      <th>percent_bc_gt_75</th>\n",
       "      <th>pub_rec_bankruptcies</th>\n",
       "      <th>tax_liens</th>\n",
       "      <th>tot_hi_cred_lim</th>\n",
       "      <th>total_bal_ex_mort</th>\n",
       "      <th>total_bc_limit</th>\n",
       "      <th>total_il_high_credit_limit</th>\n",
       "    </tr>\n",
       "  </thead>\n",
       "  <tbody>\n",
       "    <tr>\n",
       "      <th>0</th>\n",
       "      <td>1077501</td>\n",
       "      <td>1296599</td>\n",
       "      <td>5000</td>\n",
       "      <td>5000</td>\n",
       "      <td>4975.0</td>\n",
       "      <td>36 months</td>\n",
       "      <td>10.65%</td>\n",
       "      <td>162.87</td>\n",
       "      <td>B</td>\n",
       "      <td>B2</td>\n",
       "      <td>...</td>\n",
       "      <td>NaN</td>\n",
       "      <td>NaN</td>\n",
       "      <td>NaN</td>\n",
       "      <td>NaN</td>\n",
       "      <td>0.0</td>\n",
       "      <td>0.0</td>\n",
       "      <td>NaN</td>\n",
       "      <td>NaN</td>\n",
       "      <td>NaN</td>\n",
       "      <td>NaN</td>\n",
       "    </tr>\n",
       "    <tr>\n",
       "      <th>1</th>\n",
       "      <td>1077430</td>\n",
       "      <td>1314167</td>\n",
       "      <td>2500</td>\n",
       "      <td>2500</td>\n",
       "      <td>2500.0</td>\n",
       "      <td>60 months</td>\n",
       "      <td>15.27%</td>\n",
       "      <td>59.83</td>\n",
       "      <td>C</td>\n",
       "      <td>C4</td>\n",
       "      <td>...</td>\n",
       "      <td>NaN</td>\n",
       "      <td>NaN</td>\n",
       "      <td>NaN</td>\n",
       "      <td>NaN</td>\n",
       "      <td>0.0</td>\n",
       "      <td>0.0</td>\n",
       "      <td>NaN</td>\n",
       "      <td>NaN</td>\n",
       "      <td>NaN</td>\n",
       "      <td>NaN</td>\n",
       "    </tr>\n",
       "    <tr>\n",
       "      <th>2</th>\n",
       "      <td>1077175</td>\n",
       "      <td>1313524</td>\n",
       "      <td>2400</td>\n",
       "      <td>2400</td>\n",
       "      <td>2400.0</td>\n",
       "      <td>36 months</td>\n",
       "      <td>15.96%</td>\n",
       "      <td>84.33</td>\n",
       "      <td>C</td>\n",
       "      <td>C5</td>\n",
       "      <td>...</td>\n",
       "      <td>NaN</td>\n",
       "      <td>NaN</td>\n",
       "      <td>NaN</td>\n",
       "      <td>NaN</td>\n",
       "      <td>0.0</td>\n",
       "      <td>0.0</td>\n",
       "      <td>NaN</td>\n",
       "      <td>NaN</td>\n",
       "      <td>NaN</td>\n",
       "      <td>NaN</td>\n",
       "    </tr>\n",
       "    <tr>\n",
       "      <th>3</th>\n",
       "      <td>1076863</td>\n",
       "      <td>1277178</td>\n",
       "      <td>10000</td>\n",
       "      <td>10000</td>\n",
       "      <td>10000.0</td>\n",
       "      <td>36 months</td>\n",
       "      <td>13.49%</td>\n",
       "      <td>339.31</td>\n",
       "      <td>C</td>\n",
       "      <td>C1</td>\n",
       "      <td>...</td>\n",
       "      <td>NaN</td>\n",
       "      <td>NaN</td>\n",
       "      <td>NaN</td>\n",
       "      <td>NaN</td>\n",
       "      <td>0.0</td>\n",
       "      <td>0.0</td>\n",
       "      <td>NaN</td>\n",
       "      <td>NaN</td>\n",
       "      <td>NaN</td>\n",
       "      <td>NaN</td>\n",
       "    </tr>\n",
       "    <tr>\n",
       "      <th>4</th>\n",
       "      <td>1075358</td>\n",
       "      <td>1311748</td>\n",
       "      <td>3000</td>\n",
       "      <td>3000</td>\n",
       "      <td>3000.0</td>\n",
       "      <td>60 months</td>\n",
       "      <td>12.69%</td>\n",
       "      <td>67.79</td>\n",
       "      <td>B</td>\n",
       "      <td>B5</td>\n",
       "      <td>...</td>\n",
       "      <td>NaN</td>\n",
       "      <td>NaN</td>\n",
       "      <td>NaN</td>\n",
       "      <td>NaN</td>\n",
       "      <td>0.0</td>\n",
       "      <td>0.0</td>\n",
       "      <td>NaN</td>\n",
       "      <td>NaN</td>\n",
       "      <td>NaN</td>\n",
       "      <td>NaN</td>\n",
       "    </tr>\n",
       "  </tbody>\n",
       "</table>\n",
       "<p>5 rows × 111 columns</p>\n",
       "</div>"
      ],
      "text/plain": [
       "        id  member_id  loan_amnt  funded_amnt  funded_amnt_inv        term  \\\n",
       "0  1077501    1296599       5000         5000           4975.0   36 months   \n",
       "1  1077430    1314167       2500         2500           2500.0   60 months   \n",
       "2  1077175    1313524       2400         2400           2400.0   36 months   \n",
       "3  1076863    1277178      10000        10000          10000.0   36 months   \n",
       "4  1075358    1311748       3000         3000           3000.0   60 months   \n",
       "\n",
       "  int_rate  installment grade sub_grade  ... num_tl_90g_dpd_24m  \\\n",
       "0   10.65%       162.87     B        B2  ...                NaN   \n",
       "1   15.27%        59.83     C        C4  ...                NaN   \n",
       "2   15.96%        84.33     C        C5  ...                NaN   \n",
       "3   13.49%       339.31     C        C1  ...                NaN   \n",
       "4   12.69%        67.79     B        B5  ...                NaN   \n",
       "\n",
       "  num_tl_op_past_12m pct_tl_nvr_dlq  percent_bc_gt_75 pub_rec_bankruptcies  \\\n",
       "0                NaN            NaN               NaN                  0.0   \n",
       "1                NaN            NaN               NaN                  0.0   \n",
       "2                NaN            NaN               NaN                  0.0   \n",
       "3                NaN            NaN               NaN                  0.0   \n",
       "4                NaN            NaN               NaN                  0.0   \n",
       "\n",
       "  tax_liens tot_hi_cred_lim total_bal_ex_mort total_bc_limit  \\\n",
       "0       0.0             NaN               NaN            NaN   \n",
       "1       0.0             NaN               NaN            NaN   \n",
       "2       0.0             NaN               NaN            NaN   \n",
       "3       0.0             NaN               NaN            NaN   \n",
       "4       0.0             NaN               NaN            NaN   \n",
       "\n",
       "  total_il_high_credit_limit  \n",
       "0                        NaN  \n",
       "1                        NaN  \n",
       "2                        NaN  \n",
       "3                        NaN  \n",
       "4                        NaN  \n",
       "\n",
       "[5 rows x 111 columns]"
      ]
     },
     "execution_count": 5,
     "metadata": {},
     "output_type": "execute_result"
    }
   ],
   "source": [
    "loan.head()"
   ]
  },
  {
   "cell_type": "code",
   "execution_count": 6,
   "metadata": {},
   "outputs": [
    {
     "data": {
      "text/html": [
       "<div>\n",
       "<style scoped>\n",
       "    .dataframe tbody tr th:only-of-type {\n",
       "        vertical-align: middle;\n",
       "    }\n",
       "\n",
       "    .dataframe tbody tr th {\n",
       "        vertical-align: top;\n",
       "    }\n",
       "\n",
       "    .dataframe thead th {\n",
       "        text-align: right;\n",
       "    }\n",
       "</style>\n",
       "<table border=\"1\" class=\"dataframe\">\n",
       "  <thead>\n",
       "    <tr style=\"text-align: right;\">\n",
       "      <th></th>\n",
       "      <th>id</th>\n",
       "      <th>member_id</th>\n",
       "      <th>loan_amnt</th>\n",
       "      <th>funded_amnt</th>\n",
       "      <th>funded_amnt_inv</th>\n",
       "      <th>term</th>\n",
       "      <th>int_rate</th>\n",
       "      <th>installment</th>\n",
       "      <th>grade</th>\n",
       "      <th>sub_grade</th>\n",
       "      <th>...</th>\n",
       "      <th>num_tl_90g_dpd_24m</th>\n",
       "      <th>num_tl_op_past_12m</th>\n",
       "      <th>pct_tl_nvr_dlq</th>\n",
       "      <th>percent_bc_gt_75</th>\n",
       "      <th>pub_rec_bankruptcies</th>\n",
       "      <th>tax_liens</th>\n",
       "      <th>tot_hi_cred_lim</th>\n",
       "      <th>total_bal_ex_mort</th>\n",
       "      <th>total_bc_limit</th>\n",
       "      <th>total_il_high_credit_limit</th>\n",
       "    </tr>\n",
       "  </thead>\n",
       "  <tbody>\n",
       "    <tr>\n",
       "      <th>39712</th>\n",
       "      <td>92187</td>\n",
       "      <td>92174</td>\n",
       "      <td>2500</td>\n",
       "      <td>2500</td>\n",
       "      <td>1075.0</td>\n",
       "      <td>36 months</td>\n",
       "      <td>8.07%</td>\n",
       "      <td>78.42</td>\n",
       "      <td>A</td>\n",
       "      <td>A4</td>\n",
       "      <td>...</td>\n",
       "      <td>NaN</td>\n",
       "      <td>NaN</td>\n",
       "      <td>NaN</td>\n",
       "      <td>NaN</td>\n",
       "      <td>NaN</td>\n",
       "      <td>NaN</td>\n",
       "      <td>NaN</td>\n",
       "      <td>NaN</td>\n",
       "      <td>NaN</td>\n",
       "      <td>NaN</td>\n",
       "    </tr>\n",
       "    <tr>\n",
       "      <th>39713</th>\n",
       "      <td>90665</td>\n",
       "      <td>90607</td>\n",
       "      <td>8500</td>\n",
       "      <td>8500</td>\n",
       "      <td>875.0</td>\n",
       "      <td>36 months</td>\n",
       "      <td>10.28%</td>\n",
       "      <td>275.38</td>\n",
       "      <td>C</td>\n",
       "      <td>C1</td>\n",
       "      <td>...</td>\n",
       "      <td>NaN</td>\n",
       "      <td>NaN</td>\n",
       "      <td>NaN</td>\n",
       "      <td>NaN</td>\n",
       "      <td>NaN</td>\n",
       "      <td>NaN</td>\n",
       "      <td>NaN</td>\n",
       "      <td>NaN</td>\n",
       "      <td>NaN</td>\n",
       "      <td>NaN</td>\n",
       "    </tr>\n",
       "    <tr>\n",
       "      <th>39714</th>\n",
       "      <td>90395</td>\n",
       "      <td>90390</td>\n",
       "      <td>5000</td>\n",
       "      <td>5000</td>\n",
       "      <td>1325.0</td>\n",
       "      <td>36 months</td>\n",
       "      <td>8.07%</td>\n",
       "      <td>156.84</td>\n",
       "      <td>A</td>\n",
       "      <td>A4</td>\n",
       "      <td>...</td>\n",
       "      <td>NaN</td>\n",
       "      <td>NaN</td>\n",
       "      <td>NaN</td>\n",
       "      <td>NaN</td>\n",
       "      <td>NaN</td>\n",
       "      <td>NaN</td>\n",
       "      <td>NaN</td>\n",
       "      <td>NaN</td>\n",
       "      <td>NaN</td>\n",
       "      <td>NaN</td>\n",
       "    </tr>\n",
       "    <tr>\n",
       "      <th>39715</th>\n",
       "      <td>90376</td>\n",
       "      <td>89243</td>\n",
       "      <td>5000</td>\n",
       "      <td>5000</td>\n",
       "      <td>650.0</td>\n",
       "      <td>36 months</td>\n",
       "      <td>7.43%</td>\n",
       "      <td>155.38</td>\n",
       "      <td>A</td>\n",
       "      <td>A2</td>\n",
       "      <td>...</td>\n",
       "      <td>NaN</td>\n",
       "      <td>NaN</td>\n",
       "      <td>NaN</td>\n",
       "      <td>NaN</td>\n",
       "      <td>NaN</td>\n",
       "      <td>NaN</td>\n",
       "      <td>NaN</td>\n",
       "      <td>NaN</td>\n",
       "      <td>NaN</td>\n",
       "      <td>NaN</td>\n",
       "    </tr>\n",
       "    <tr>\n",
       "      <th>39716</th>\n",
       "      <td>87023</td>\n",
       "      <td>86999</td>\n",
       "      <td>7500</td>\n",
       "      <td>7500</td>\n",
       "      <td>800.0</td>\n",
       "      <td>36 months</td>\n",
       "      <td>13.75%</td>\n",
       "      <td>255.43</td>\n",
       "      <td>E</td>\n",
       "      <td>E2</td>\n",
       "      <td>...</td>\n",
       "      <td>NaN</td>\n",
       "      <td>NaN</td>\n",
       "      <td>NaN</td>\n",
       "      <td>NaN</td>\n",
       "      <td>NaN</td>\n",
       "      <td>NaN</td>\n",
       "      <td>NaN</td>\n",
       "      <td>NaN</td>\n",
       "      <td>NaN</td>\n",
       "      <td>NaN</td>\n",
       "    </tr>\n",
       "  </tbody>\n",
       "</table>\n",
       "<p>5 rows × 111 columns</p>\n",
       "</div>"
      ],
      "text/plain": [
       "          id  member_id  loan_amnt  funded_amnt  funded_amnt_inv        term  \\\n",
       "39712  92187      92174       2500         2500           1075.0   36 months   \n",
       "39713  90665      90607       8500         8500            875.0   36 months   \n",
       "39714  90395      90390       5000         5000           1325.0   36 months   \n",
       "39715  90376      89243       5000         5000            650.0   36 months   \n",
       "39716  87023      86999       7500         7500            800.0   36 months   \n",
       "\n",
       "      int_rate  installment grade sub_grade  ... num_tl_90g_dpd_24m  \\\n",
       "39712    8.07%        78.42     A        A4  ...                NaN   \n",
       "39713   10.28%       275.38     C        C1  ...                NaN   \n",
       "39714    8.07%       156.84     A        A4  ...                NaN   \n",
       "39715    7.43%       155.38     A        A2  ...                NaN   \n",
       "39716   13.75%       255.43     E        E2  ...                NaN   \n",
       "\n",
       "      num_tl_op_past_12m pct_tl_nvr_dlq  percent_bc_gt_75  \\\n",
       "39712                NaN            NaN               NaN   \n",
       "39713                NaN            NaN               NaN   \n",
       "39714                NaN            NaN               NaN   \n",
       "39715                NaN            NaN               NaN   \n",
       "39716                NaN            NaN               NaN   \n",
       "\n",
       "      pub_rec_bankruptcies tax_liens tot_hi_cred_lim total_bal_ex_mort  \\\n",
       "39712                  NaN       NaN             NaN               NaN   \n",
       "39713                  NaN       NaN             NaN               NaN   \n",
       "39714                  NaN       NaN             NaN               NaN   \n",
       "39715                  NaN       NaN             NaN               NaN   \n",
       "39716                  NaN       NaN             NaN               NaN   \n",
       "\n",
       "      total_bc_limit total_il_high_credit_limit  \n",
       "39712            NaN                        NaN  \n",
       "39713            NaN                        NaN  \n",
       "39714            NaN                        NaN  \n",
       "39715            NaN                        NaN  \n",
       "39716            NaN                        NaN  \n",
       "\n",
       "[5 rows x 111 columns]"
      ]
     },
     "execution_count": 6,
     "metadata": {},
     "output_type": "execute_result"
    }
   ],
   "source": [
    "loan.tail()"
   ]
  },
  {
   "cell_type": "code",
   "execution_count": 7,
   "metadata": {},
   "outputs": [
    {
     "data": {
      "text/plain": [
       "<bound method NDFrame.describe of             id  member_id  loan_amnt  funded_amnt  funded_amnt_inv  \\\n",
       "0      1077501    1296599       5000         5000           4975.0   \n",
       "1      1077430    1314167       2500         2500           2500.0   \n",
       "2      1077175    1313524       2400         2400           2400.0   \n",
       "3      1076863    1277178      10000        10000          10000.0   \n",
       "4      1075358    1311748       3000         3000           3000.0   \n",
       "...        ...        ...        ...          ...              ...   \n",
       "39712    92187      92174       2500         2500           1075.0   \n",
       "39713    90665      90607       8500         8500            875.0   \n",
       "39714    90395      90390       5000         5000           1325.0   \n",
       "39715    90376      89243       5000         5000            650.0   \n",
       "39716    87023      86999       7500         7500            800.0   \n",
       "\n",
       "             term int_rate  installment grade sub_grade  ...  \\\n",
       "0       36 months   10.65%       162.87     B        B2  ...   \n",
       "1       60 months   15.27%        59.83     C        C4  ...   \n",
       "2       36 months   15.96%        84.33     C        C5  ...   \n",
       "3       36 months   13.49%       339.31     C        C1  ...   \n",
       "4       60 months   12.69%        67.79     B        B5  ...   \n",
       "...           ...      ...          ...   ...       ...  ...   \n",
       "39712   36 months    8.07%        78.42     A        A4  ...   \n",
       "39713   36 months   10.28%       275.38     C        C1  ...   \n",
       "39714   36 months    8.07%       156.84     A        A4  ...   \n",
       "39715   36 months    7.43%       155.38     A        A2  ...   \n",
       "39716   36 months   13.75%       255.43     E        E2  ...   \n",
       "\n",
       "      num_tl_90g_dpd_24m num_tl_op_past_12m pct_tl_nvr_dlq  percent_bc_gt_75  \\\n",
       "0                    NaN                NaN            NaN               NaN   \n",
       "1                    NaN                NaN            NaN               NaN   \n",
       "2                    NaN                NaN            NaN               NaN   \n",
       "3                    NaN                NaN            NaN               NaN   \n",
       "4                    NaN                NaN            NaN               NaN   \n",
       "...                  ...                ...            ...               ...   \n",
       "39712                NaN                NaN            NaN               NaN   \n",
       "39713                NaN                NaN            NaN               NaN   \n",
       "39714                NaN                NaN            NaN               NaN   \n",
       "39715                NaN                NaN            NaN               NaN   \n",
       "39716                NaN                NaN            NaN               NaN   \n",
       "\n",
       "      pub_rec_bankruptcies tax_liens tot_hi_cred_lim total_bal_ex_mort  \\\n",
       "0                      0.0       0.0             NaN               NaN   \n",
       "1                      0.0       0.0             NaN               NaN   \n",
       "2                      0.0       0.0             NaN               NaN   \n",
       "3                      0.0       0.0             NaN               NaN   \n",
       "4                      0.0       0.0             NaN               NaN   \n",
       "...                    ...       ...             ...               ...   \n",
       "39712                  NaN       NaN             NaN               NaN   \n",
       "39713                  NaN       NaN             NaN               NaN   \n",
       "39714                  NaN       NaN             NaN               NaN   \n",
       "39715                  NaN       NaN             NaN               NaN   \n",
       "39716                  NaN       NaN             NaN               NaN   \n",
       "\n",
       "      total_bc_limit total_il_high_credit_limit  \n",
       "0                NaN                        NaN  \n",
       "1                NaN                        NaN  \n",
       "2                NaN                        NaN  \n",
       "3                NaN                        NaN  \n",
       "4                NaN                        NaN  \n",
       "...              ...                        ...  \n",
       "39712            NaN                        NaN  \n",
       "39713            NaN                        NaN  \n",
       "39714            NaN                        NaN  \n",
       "39715            NaN                        NaN  \n",
       "39716            NaN                        NaN  \n",
       "\n",
       "[39717 rows x 111 columns]>"
      ]
     },
     "execution_count": 7,
     "metadata": {},
     "output_type": "execute_result"
    }
   ],
   "source": [
    "loan.describe"
   ]
  },
  {
   "cell_type": "markdown",
   "metadata": {},
   "source": [
    "### Identify the target column \n",
    "\"Loan status\" column will be the target variable"
   ]
  },
  {
   "cell_type": "code",
   "execution_count": 8,
   "metadata": {},
   "outputs": [
    {
     "data": {
      "text/plain": [
       "Fully Paid     32950\n",
       "Charged Off     5627\n",
       "Current         1140\n",
       "Name: loan_status, dtype: int64"
      ]
     },
     "execution_count": 8,
     "metadata": {},
     "output_type": "execute_result"
    }
   ],
   "source": [
    "# Let's check the value in this column\n",
    "loan.loan_status.value_counts()"
   ]
  },
  {
   "cell_type": "markdown",
   "metadata": {},
   "source": [
    "- Since loan with status \"current\" is loan where customer is paying regularly and is not usefull for analysis, the corresponding entries will be dropped.\n",
    "- Loan status value \"Full Paid\" will be replaced with 0 and \"charged off\" will be replace with 1.This will be helpful in the analysis and creating plots."
   ]
  },
  {
   "cell_type": "code",
   "execution_count": 9,
   "metadata": {},
   "outputs": [],
   "source": [
    "# Drop the record where loan status is current\n",
    "loan = loan[loan.loan_status != \"Current\"]"
   ]
  },
  {
   "cell_type": "code",
   "execution_count": 10,
   "metadata": {},
   "outputs": [
    {
     "data": {
      "text/plain": [
       "(38577, 111)"
      ]
     },
     "execution_count": 10,
     "metadata": {},
     "output_type": "execute_result"
    }
   ],
   "source": [
    "loan.shape"
   ]
  },
  {
   "cell_type": "code",
   "execution_count": 11,
   "metadata": {},
   "outputs": [],
   "source": [
    "# Replace the value in loan_status column\n",
    "loan.loan_status = loan.loan_status.apply(lambda x: 1 if x == 'Charged Off' else 0)"
   ]
  },
  {
   "cell_type": "code",
   "execution_count": 12,
   "metadata": {},
   "outputs": [
    {
     "data": {
      "text/plain": [
       "0    32950\n",
       "1     5627\n",
       "Name: loan_status, dtype: int64"
      ]
     },
     "execution_count": 12,
     "metadata": {},
     "output_type": "execute_result"
    }
   ],
   "source": [
    "loan.loan_status.value_counts()"
   ]
  },
  {
   "cell_type": "markdown",
   "metadata": {},
   "source": [
    "## 2. Data Cleaning \n",
    "- Check the percentage of missing value for each column\n",
    "- Drop the record with high percentage of missing value in column (> 80% missing value)\n",
    "- Drop the record where there is high number of missing value in a row ( > 5 )\n",
    "- Drop the columns related to customer behaviour variables\n",
    "- Impute the missing values \n",
    "- Correct the data types"
   ]
  },
  {
   "cell_type": "code",
   "execution_count": 13,
   "metadata": {},
   "outputs": [
    {
     "name": "stdout",
     "output_type": "stream",
     "text": [
      "id                              0.0\n",
      "member_id                       0.0\n",
      "loan_amnt                       0.0\n",
      "funded_amnt                     0.0\n",
      "funded_amnt_inv                 0.0\n",
      "                              ...  \n",
      "tax_liens                       0.1\n",
      "tot_hi_cred_lim               100.0\n",
      "total_bal_ex_mort             100.0\n",
      "total_bc_limit                100.0\n",
      "total_il_high_credit_limit    100.0\n",
      "Length: 111, dtype: float64\n"
     ]
    }
   ],
   "source": [
    "# null percentage in column\n",
    "null_per = round(100*(loan.isnull().sum()/len(loan.index)),2)\n",
    "print(null_per)"
   ]
  },
  {
   "cell_type": "code",
   "execution_count": 14,
   "metadata": {},
   "outputs": [
    {
     "data": {
      "text/plain": [
       "['mths_since_last_record',\n",
       " 'next_pymnt_d',\n",
       " 'mths_since_last_major_derog',\n",
       " 'annual_inc_joint',\n",
       " 'dti_joint',\n",
       " 'verification_status_joint',\n",
       " 'tot_coll_amt',\n",
       " 'tot_cur_bal',\n",
       " 'open_acc_6m',\n",
       " 'open_il_6m',\n",
       " 'open_il_12m',\n",
       " 'open_il_24m',\n",
       " 'mths_since_rcnt_il',\n",
       " 'total_bal_il',\n",
       " 'il_util',\n",
       " 'open_rv_12m',\n",
       " 'open_rv_24m',\n",
       " 'max_bal_bc',\n",
       " 'all_util',\n",
       " 'total_rev_hi_lim',\n",
       " 'inq_fi',\n",
       " 'total_cu_tl',\n",
       " 'inq_last_12m',\n",
       " 'acc_open_past_24mths',\n",
       " 'avg_cur_bal',\n",
       " 'bc_open_to_buy',\n",
       " 'bc_util',\n",
       " 'mo_sin_old_il_acct',\n",
       " 'mo_sin_old_rev_tl_op',\n",
       " 'mo_sin_rcnt_rev_tl_op',\n",
       " 'mo_sin_rcnt_tl',\n",
       " 'mort_acc',\n",
       " 'mths_since_recent_bc',\n",
       " 'mths_since_recent_bc_dlq',\n",
       " 'mths_since_recent_inq',\n",
       " 'mths_since_recent_revol_delinq',\n",
       " 'num_accts_ever_120_pd',\n",
       " 'num_actv_bc_tl',\n",
       " 'num_actv_rev_tl',\n",
       " 'num_bc_sats',\n",
       " 'num_bc_tl',\n",
       " 'num_il_tl',\n",
       " 'num_op_rev_tl',\n",
       " 'num_rev_accts',\n",
       " 'num_rev_tl_bal_gt_0',\n",
       " 'num_sats',\n",
       " 'num_tl_120dpd_2m',\n",
       " 'num_tl_30dpd',\n",
       " 'num_tl_90g_dpd_24m',\n",
       " 'num_tl_op_past_12m',\n",
       " 'pct_tl_nvr_dlq',\n",
       " 'percent_bc_gt_75',\n",
       " 'tot_hi_cred_lim',\n",
       " 'total_bal_ex_mort',\n",
       " 'total_bc_limit',\n",
       " 'total_il_high_credit_limit']"
      ]
     },
     "execution_count": 14,
     "metadata": {},
     "output_type": "execute_result"
    }
   ],
   "source": [
    "# list of column having missing value percentage > 80\n",
    "list_c = list(loan.columns[null_per > 80])\n",
    "list_c"
   ]
  },
  {
   "cell_type": "code",
   "execution_count": 15,
   "metadata": {},
   "outputs": [],
   "source": [
    "# We will drop all the column where missing values is > 80%\n",
    "loan = loan.drop(list_c, axis=1) "
   ]
  },
  {
   "cell_type": "code",
   "execution_count": 16,
   "metadata": {},
   "outputs": [
    {
     "data": {
      "text/plain": [
       "(38577, 55)"
      ]
     },
     "execution_count": 16,
     "metadata": {},
     "output_type": "execute_result"
    }
   ],
   "source": [
    "# shape of dataset after dropping the values\n",
    "loan.shape"
   ]
  },
  {
   "cell_type": "markdown",
   "metadata": {},
   "source": [
    "### Comment about dropping columns\n",
    "- Customer behaviour variables \n",
    "    - The variables generated after loan is approved is of no use for this analysis.\n",
    "    - All the column which contains customer behaviour variables will be dropped\n",
    "- Most of the records having same value in column loan_amnt, funded_amnt and funded_amnt_inv. The funded_amnt_inv which defines the amount funded to the borrower will be retained and the other two columns will be dropped."
   ]
  },
  {
   "cell_type": "code",
   "execution_count": 17,
   "metadata": {
    "scrolled": true
   },
   "outputs": [
    {
     "data": {
      "text/plain": [
       "['id',\n",
       " 'member_id',\n",
       " 'loan_amnt',\n",
       " 'funded_amnt',\n",
       " 'funded_amnt_inv',\n",
       " 'term',\n",
       " 'int_rate',\n",
       " 'installment',\n",
       " 'grade',\n",
       " 'sub_grade',\n",
       " 'emp_title',\n",
       " 'emp_length',\n",
       " 'home_ownership',\n",
       " 'annual_inc',\n",
       " 'verification_status',\n",
       " 'issue_d',\n",
       " 'loan_status',\n",
       " 'pymnt_plan',\n",
       " 'url',\n",
       " 'desc',\n",
       " 'purpose',\n",
       " 'title',\n",
       " 'zip_code',\n",
       " 'addr_state',\n",
       " 'dti',\n",
       " 'delinq_2yrs',\n",
       " 'earliest_cr_line',\n",
       " 'inq_last_6mths',\n",
       " 'mths_since_last_delinq',\n",
       " 'open_acc',\n",
       " 'pub_rec',\n",
       " 'revol_bal',\n",
       " 'revol_util',\n",
       " 'total_acc',\n",
       " 'initial_list_status',\n",
       " 'out_prncp',\n",
       " 'out_prncp_inv',\n",
       " 'total_pymnt',\n",
       " 'total_pymnt_inv',\n",
       " 'total_rec_prncp',\n",
       " 'total_rec_int',\n",
       " 'total_rec_late_fee',\n",
       " 'recoveries',\n",
       " 'collection_recovery_fee',\n",
       " 'last_pymnt_d',\n",
       " 'last_pymnt_amnt',\n",
       " 'last_credit_pull_d',\n",
       " 'collections_12_mths_ex_med',\n",
       " 'policy_code',\n",
       " 'application_type',\n",
       " 'acc_now_delinq',\n",
       " 'chargeoff_within_12_mths',\n",
       " 'delinq_amnt',\n",
       " 'pub_rec_bankruptcies',\n",
       " 'tax_liens']"
      ]
     },
     "execution_count": 17,
     "metadata": {},
     "output_type": "execute_result"
    }
   ],
   "source": [
    "# list of all columns\n",
    "list(loan.columns)"
   ]
  },
  {
   "cell_type": "code",
   "execution_count": 18,
   "metadata": {},
   "outputs": [],
   "source": [
    "# Dropping the columns not required as per above comment\n",
    "loan = loan.drop(['url',\n",
    "                'member_id',\n",
    "                'delinq_2yrs',\n",
    "                'mths_since_last_delinq',\n",
    "                'revol_bal',\n",
    "                'revol_util',\n",
    "                'out_prncp',\n",
    "                'out_prncp_inv',\n",
    "                'total_pymnt',\n",
    "                'total_pymnt_inv',\n",
    "                'total_rec_prncp',\n",
    "                'collections_12_mths_ex_med',\n",
    "                'acc_now_delinq',\n",
    "                'chargeoff_within_12_mths',\n",
    "                'delinq_amnt',\n",
    "                'tax_liens',\n",
    "                'collection_recovery_fee',\n",
    "                'last_pymnt_d',\n",
    "                'last_pymnt_amnt',\n",
    "                'recoveries',\n",
    "                'total_rec_int',\n",
    "                'total_rec_late_fee',\n",
    "                'desc',\n",
    "                'loan_amnt',\n",
    "                'funded_amnt'], axis=1)"
   ]
  },
  {
   "cell_type": "code",
   "execution_count": 19,
   "metadata": {},
   "outputs": [
    {
     "data": {
      "text/plain": [
       "(38577, 30)"
      ]
     },
     "execution_count": 19,
     "metadata": {},
     "output_type": "execute_result"
    }
   ],
   "source": [
    "# shape of dataset after dropping the columns\n",
    "loan.shape"
   ]
  },
  {
   "cell_type": "code",
   "execution_count": 20,
   "metadata": {},
   "outputs": [
    {
     "data": {
      "text/plain": [
       "0"
      ]
     },
     "execution_count": 20,
     "metadata": {},
     "output_type": "execute_result"
    }
   ],
   "source": [
    "# number of rows having null value greater than 5\n",
    "len(loan[loan.isnull().sum(axis=1)>5].index)"
   ]
  },
  {
   "cell_type": "code",
   "execution_count": 21,
   "metadata": {},
   "outputs": [
    {
     "data": {
      "text/plain": [
       "id                      0.00\n",
       "funded_amnt_inv         0.00\n",
       "term                    0.00\n",
       "int_rate                0.00\n",
       "installment             0.00\n",
       "grade                   0.00\n",
       "sub_grade               0.00\n",
       "emp_title               6.19\n",
       "emp_length              2.68\n",
       "home_ownership          0.00\n",
       "annual_inc              0.00\n",
       "verification_status     0.00\n",
       "issue_d                 0.00\n",
       "loan_status             0.00\n",
       "pymnt_plan              0.00\n",
       "purpose                 0.00\n",
       "title                   0.03\n",
       "zip_code                0.00\n",
       "addr_state              0.00\n",
       "dti                     0.00\n",
       "earliest_cr_line        0.00\n",
       "inq_last_6mths          0.00\n",
       "open_acc                0.00\n",
       "pub_rec                 0.00\n",
       "total_acc               0.00\n",
       "initial_list_status     0.00\n",
       "last_credit_pull_d      0.01\n",
       "policy_code             0.00\n",
       "application_type        0.00\n",
       "pub_rec_bankruptcies    1.81\n",
       "dtype: float64"
      ]
     },
     "execution_count": 21,
     "metadata": {},
     "output_type": "execute_result"
    }
   ],
   "source": [
    "#Checking the null % of the columns again\n",
    "round(100*(loan.isnull().sum()/len(loan.index)),2)"
   ]
  },
  {
   "cell_type": "code",
   "execution_count": 22,
   "metadata": {},
   "outputs": [
    {
     "data": {
      "text/plain": [
       "US Army                             131\n",
       "Bank of America                     107\n",
       "IBM                                  65\n",
       "AT&T                                 57\n",
       "Kaiser Permanente                    56\n",
       "                                   ... \n",
       "Liz Claiborne Inc                     1\n",
       "Vishay Intertechnology                1\n",
       "North American Health Care, Inc.      1\n",
       "Activfinancial Systems                1\n",
       "The Star Group                        1\n",
       "Name: emp_title, Length: 28027, dtype: int64"
      ]
     },
     "execution_count": 22,
     "metadata": {},
     "output_type": "execute_result"
    }
   ],
   "source": [
    "# Values in employee title column\n",
    "loan.emp_title.value_counts()"
   ]
  },
  {
   "cell_type": "code",
   "execution_count": 23,
   "metadata": {},
   "outputs": [],
   "source": [
    "# Imputing the \"na\" value in emp_title with the \"unknown\"\n",
    "loan.emp_title = loan.emp_title.fillna(\"Unknown\")"
   ]
  },
  {
   "cell_type": "code",
   "execution_count": 24,
   "metadata": {},
   "outputs": [
    {
     "data": {
      "text/plain": [
       "id                      0.00\n",
       "funded_amnt_inv         0.00\n",
       "term                    0.00\n",
       "int_rate                0.00\n",
       "installment             0.00\n",
       "grade                   0.00\n",
       "sub_grade               0.00\n",
       "emp_title               0.00\n",
       "emp_length              2.68\n",
       "home_ownership          0.00\n",
       "annual_inc              0.00\n",
       "verification_status     0.00\n",
       "issue_d                 0.00\n",
       "loan_status             0.00\n",
       "pymnt_plan              0.00\n",
       "purpose                 0.00\n",
       "title                   0.03\n",
       "zip_code                0.00\n",
       "addr_state              0.00\n",
       "dti                     0.00\n",
       "earliest_cr_line        0.00\n",
       "inq_last_6mths          0.00\n",
       "open_acc                0.00\n",
       "pub_rec                 0.00\n",
       "total_acc               0.00\n",
       "initial_list_status     0.00\n",
       "last_credit_pull_d      0.01\n",
       "policy_code             0.00\n",
       "application_type        0.00\n",
       "pub_rec_bankruptcies    1.81\n",
       "dtype: float64"
      ]
     },
     "execution_count": 24,
     "metadata": {},
     "output_type": "execute_result"
    }
   ],
   "source": [
    "# check the null percentage again\n",
    "round(100*(loan.isnull().sum()/len(loan.index)),2)"
   ]
  },
  {
   "cell_type": "code",
   "execution_count": 25,
   "metadata": {},
   "outputs": [
    {
     "data": {
      "text/html": [
       "<div>\n",
       "<style scoped>\n",
       "    .dataframe tbody tr th:only-of-type {\n",
       "        vertical-align: middle;\n",
       "    }\n",
       "\n",
       "    .dataframe tbody tr th {\n",
       "        vertical-align: top;\n",
       "    }\n",
       "\n",
       "    .dataframe thead th {\n",
       "        text-align: right;\n",
       "    }\n",
       "</style>\n",
       "<table border=\"1\" class=\"dataframe\">\n",
       "  <thead>\n",
       "    <tr style=\"text-align: right;\">\n",
       "      <th></th>\n",
       "      <th>id</th>\n",
       "      <th>funded_amnt_inv</th>\n",
       "      <th>term</th>\n",
       "      <th>int_rate</th>\n",
       "      <th>installment</th>\n",
       "      <th>grade</th>\n",
       "      <th>sub_grade</th>\n",
       "      <th>emp_title</th>\n",
       "      <th>emp_length</th>\n",
       "      <th>home_ownership</th>\n",
       "      <th>...</th>\n",
       "      <th>earliest_cr_line</th>\n",
       "      <th>inq_last_6mths</th>\n",
       "      <th>open_acc</th>\n",
       "      <th>pub_rec</th>\n",
       "      <th>total_acc</th>\n",
       "      <th>initial_list_status</th>\n",
       "      <th>last_credit_pull_d</th>\n",
       "      <th>policy_code</th>\n",
       "      <th>application_type</th>\n",
       "      <th>pub_rec_bankruptcies</th>\n",
       "    </tr>\n",
       "  </thead>\n",
       "  <tbody>\n",
       "    <tr>\n",
       "      <th>0</th>\n",
       "      <td>1077501</td>\n",
       "      <td>4975.0</td>\n",
       "      <td>36 months</td>\n",
       "      <td>10.65%</td>\n",
       "      <td>162.87</td>\n",
       "      <td>B</td>\n",
       "      <td>B2</td>\n",
       "      <td>Unknown</td>\n",
       "      <td>10+ years</td>\n",
       "      <td>RENT</td>\n",
       "      <td>...</td>\n",
       "      <td>Jan-85</td>\n",
       "      <td>1</td>\n",
       "      <td>3</td>\n",
       "      <td>0</td>\n",
       "      <td>9</td>\n",
       "      <td>f</td>\n",
       "      <td>May-16</td>\n",
       "      <td>1</td>\n",
       "      <td>INDIVIDUAL</td>\n",
       "      <td>0.0</td>\n",
       "    </tr>\n",
       "    <tr>\n",
       "      <th>1</th>\n",
       "      <td>1077430</td>\n",
       "      <td>2500.0</td>\n",
       "      <td>60 months</td>\n",
       "      <td>15.27%</td>\n",
       "      <td>59.83</td>\n",
       "      <td>C</td>\n",
       "      <td>C4</td>\n",
       "      <td>Ryder</td>\n",
       "      <td>&lt; 1 year</td>\n",
       "      <td>RENT</td>\n",
       "      <td>...</td>\n",
       "      <td>Apr-99</td>\n",
       "      <td>5</td>\n",
       "      <td>3</td>\n",
       "      <td>0</td>\n",
       "      <td>4</td>\n",
       "      <td>f</td>\n",
       "      <td>Sep-13</td>\n",
       "      <td>1</td>\n",
       "      <td>INDIVIDUAL</td>\n",
       "      <td>0.0</td>\n",
       "    </tr>\n",
       "    <tr>\n",
       "      <th>2</th>\n",
       "      <td>1077175</td>\n",
       "      <td>2400.0</td>\n",
       "      <td>36 months</td>\n",
       "      <td>15.96%</td>\n",
       "      <td>84.33</td>\n",
       "      <td>C</td>\n",
       "      <td>C5</td>\n",
       "      <td>Unknown</td>\n",
       "      <td>10+ years</td>\n",
       "      <td>RENT</td>\n",
       "      <td>...</td>\n",
       "      <td>Nov-01</td>\n",
       "      <td>2</td>\n",
       "      <td>2</td>\n",
       "      <td>0</td>\n",
       "      <td>10</td>\n",
       "      <td>f</td>\n",
       "      <td>May-16</td>\n",
       "      <td>1</td>\n",
       "      <td>INDIVIDUAL</td>\n",
       "      <td>0.0</td>\n",
       "    </tr>\n",
       "    <tr>\n",
       "      <th>3</th>\n",
       "      <td>1076863</td>\n",
       "      <td>10000.0</td>\n",
       "      <td>36 months</td>\n",
       "      <td>13.49%</td>\n",
       "      <td>339.31</td>\n",
       "      <td>C</td>\n",
       "      <td>C1</td>\n",
       "      <td>AIR RESOURCES BOARD</td>\n",
       "      <td>10+ years</td>\n",
       "      <td>RENT</td>\n",
       "      <td>...</td>\n",
       "      <td>Feb-96</td>\n",
       "      <td>1</td>\n",
       "      <td>10</td>\n",
       "      <td>0</td>\n",
       "      <td>37</td>\n",
       "      <td>f</td>\n",
       "      <td>Apr-16</td>\n",
       "      <td>1</td>\n",
       "      <td>INDIVIDUAL</td>\n",
       "      <td>0.0</td>\n",
       "    </tr>\n",
       "    <tr>\n",
       "      <th>5</th>\n",
       "      <td>1075269</td>\n",
       "      <td>5000.0</td>\n",
       "      <td>36 months</td>\n",
       "      <td>7.90%</td>\n",
       "      <td>156.46</td>\n",
       "      <td>A</td>\n",
       "      <td>A4</td>\n",
       "      <td>Veolia Transportaton</td>\n",
       "      <td>3 years</td>\n",
       "      <td>RENT</td>\n",
       "      <td>...</td>\n",
       "      <td>Nov-04</td>\n",
       "      <td>3</td>\n",
       "      <td>9</td>\n",
       "      <td>0</td>\n",
       "      <td>12</td>\n",
       "      <td>f</td>\n",
       "      <td>Jan-16</td>\n",
       "      <td>1</td>\n",
       "      <td>INDIVIDUAL</td>\n",
       "      <td>0.0</td>\n",
       "    </tr>\n",
       "  </tbody>\n",
       "</table>\n",
       "<p>5 rows × 30 columns</p>\n",
       "</div>"
      ],
      "text/plain": [
       "        id  funded_amnt_inv        term int_rate  installment grade sub_grade  \\\n",
       "0  1077501           4975.0   36 months   10.65%       162.87     B        B2   \n",
       "1  1077430           2500.0   60 months   15.27%        59.83     C        C4   \n",
       "2  1077175           2400.0   36 months   15.96%        84.33     C        C5   \n",
       "3  1076863          10000.0   36 months   13.49%       339.31     C        C1   \n",
       "5  1075269           5000.0   36 months    7.90%       156.46     A        A4   \n",
       "\n",
       "              emp_title emp_length home_ownership  ...  earliest_cr_line  \\\n",
       "0               Unknown  10+ years           RENT  ...            Jan-85   \n",
       "1                 Ryder   < 1 year           RENT  ...            Apr-99   \n",
       "2               Unknown  10+ years           RENT  ...            Nov-01   \n",
       "3   AIR RESOURCES BOARD  10+ years           RENT  ...            Feb-96   \n",
       "5  Veolia Transportaton    3 years           RENT  ...            Nov-04   \n",
       "\n",
       "  inq_last_6mths open_acc  pub_rec total_acc initial_list_status  \\\n",
       "0              1        3        0         9                   f   \n",
       "1              5        3        0         4                   f   \n",
       "2              2        2        0        10                   f   \n",
       "3              1       10        0        37                   f   \n",
       "5              3        9        0        12                   f   \n",
       "\n",
       "  last_credit_pull_d policy_code application_type  pub_rec_bankruptcies  \n",
       "0             May-16           1       INDIVIDUAL                   0.0  \n",
       "1             Sep-13           1       INDIVIDUAL                   0.0  \n",
       "2             May-16           1       INDIVIDUAL                   0.0  \n",
       "3             Apr-16           1       INDIVIDUAL                   0.0  \n",
       "5             Jan-16           1       INDIVIDUAL                   0.0  \n",
       "\n",
       "[5 rows x 30 columns]"
      ]
     },
     "execution_count": 25,
     "metadata": {},
     "output_type": "execute_result"
    }
   ],
   "source": [
    "# we will check pub_rec_bankruptcies and correct missing values\n",
    "loan.head()"
   ]
  },
  {
   "cell_type": "code",
   "execution_count": 26,
   "metadata": {},
   "outputs": [
    {
     "data": {
      "text/html": [
       "<div>\n",
       "<style scoped>\n",
       "    .dataframe tbody tr th:only-of-type {\n",
       "        vertical-align: middle;\n",
       "    }\n",
       "\n",
       "    .dataframe tbody tr th {\n",
       "        vertical-align: top;\n",
       "    }\n",
       "\n",
       "    .dataframe thead th {\n",
       "        text-align: right;\n",
       "    }\n",
       "</style>\n",
       "<table border=\"1\" class=\"dataframe\">\n",
       "  <thead>\n",
       "    <tr style=\"text-align: right;\">\n",
       "      <th></th>\n",
       "      <th>id</th>\n",
       "      <th>funded_amnt_inv</th>\n",
       "      <th>term</th>\n",
       "      <th>int_rate</th>\n",
       "      <th>installment</th>\n",
       "      <th>grade</th>\n",
       "      <th>sub_grade</th>\n",
       "      <th>emp_title</th>\n",
       "      <th>emp_length</th>\n",
       "      <th>home_ownership</th>\n",
       "      <th>...</th>\n",
       "      <th>earliest_cr_line</th>\n",
       "      <th>inq_last_6mths</th>\n",
       "      <th>open_acc</th>\n",
       "      <th>pub_rec</th>\n",
       "      <th>total_acc</th>\n",
       "      <th>initial_list_status</th>\n",
       "      <th>last_credit_pull_d</th>\n",
       "      <th>policy_code</th>\n",
       "      <th>application_type</th>\n",
       "      <th>pub_rec_bankruptcies</th>\n",
       "    </tr>\n",
       "  </thead>\n",
       "  <tbody>\n",
       "    <tr>\n",
       "      <th>35006</th>\n",
       "      <td>69001</td>\n",
       "      <td>14875.000000</td>\n",
       "      <td>36 months</td>\n",
       "      <td>8.94%</td>\n",
       "      <td>476.58</td>\n",
       "      <td>A</td>\n",
       "      <td>A5</td>\n",
       "      <td>Unknown</td>\n",
       "      <td>&lt; 1 year</td>\n",
       "      <td>MORTGAGE</td>\n",
       "      <td>...</td>\n",
       "      <td>Nov-91</td>\n",
       "      <td>1</td>\n",
       "      <td>6</td>\n",
       "      <td>0</td>\n",
       "      <td>19</td>\n",
       "      <td>f</td>\n",
       "      <td>Aug-15</td>\n",
       "      <td>1</td>\n",
       "      <td>INDIVIDUAL</td>\n",
       "      <td>NaN</td>\n",
       "    </tr>\n",
       "    <tr>\n",
       "      <th>35058</th>\n",
       "      <td>59006</td>\n",
       "      <td>2988.236621</td>\n",
       "      <td>36 months</td>\n",
       "      <td>14.26%</td>\n",
       "      <td>102.92</td>\n",
       "      <td>C</td>\n",
       "      <td>C5</td>\n",
       "      <td>Unknown</td>\n",
       "      <td>3 years</td>\n",
       "      <td>MORTGAGE</td>\n",
       "      <td>...</td>\n",
       "      <td>Jul-98</td>\n",
       "      <td>0</td>\n",
       "      <td>13</td>\n",
       "      <td>0</td>\n",
       "      <td>23</td>\n",
       "      <td>f</td>\n",
       "      <td>Sep-12</td>\n",
       "      <td>1</td>\n",
       "      <td>INDIVIDUAL</td>\n",
       "      <td>NaN</td>\n",
       "    </tr>\n",
       "    <tr>\n",
       "      <th>35362</th>\n",
       "      <td>65426</td>\n",
       "      <td>3892.258856</td>\n",
       "      <td>36 months</td>\n",
       "      <td>11.14%</td>\n",
       "      <td>131.22</td>\n",
       "      <td>B</td>\n",
       "      <td>B1</td>\n",
       "      <td>Infotrieve, Inc.</td>\n",
       "      <td>&lt; 1 year</td>\n",
       "      <td>MORTGAGE</td>\n",
       "      <td>...</td>\n",
       "      <td>Aug-95</td>\n",
       "      <td>0</td>\n",
       "      <td>14</td>\n",
       "      <td>0</td>\n",
       "      <td>33</td>\n",
       "      <td>f</td>\n",
       "      <td>May-16</td>\n",
       "      <td>1</td>\n",
       "      <td>INDIVIDUAL</td>\n",
       "      <td>NaN</td>\n",
       "    </tr>\n",
       "    <tr>\n",
       "      <th>38443</th>\n",
       "      <td>68926</td>\n",
       "      <td>589.605658</td>\n",
       "      <td>36 months</td>\n",
       "      <td>13.17%</td>\n",
       "      <td>77.69</td>\n",
       "      <td>D</td>\n",
       "      <td>D2</td>\n",
       "      <td>UBS</td>\n",
       "      <td>10+ years</td>\n",
       "      <td>RENT</td>\n",
       "      <td>...</td>\n",
       "      <td>Dec-97</td>\n",
       "      <td>0</td>\n",
       "      <td>4</td>\n",
       "      <td>0</td>\n",
       "      <td>13</td>\n",
       "      <td>f</td>\n",
       "      <td>May-16</td>\n",
       "      <td>1</td>\n",
       "      <td>INDIVIDUAL</td>\n",
       "      <td>NaN</td>\n",
       "    </tr>\n",
       "    <tr>\n",
       "      <th>38717</th>\n",
       "      <td>69251</td>\n",
       "      <td>500.000000</td>\n",
       "      <td>36 months</td>\n",
       "      <td>8.00%</td>\n",
       "      <td>188.02</td>\n",
       "      <td>A</td>\n",
       "      <td>A3</td>\n",
       "      <td>Unknown</td>\n",
       "      <td>&lt; 1 year</td>\n",
       "      <td>MORTGAGE</td>\n",
       "      <td>...</td>\n",
       "      <td>Dec-94</td>\n",
       "      <td>1</td>\n",
       "      <td>16</td>\n",
       "      <td>0</td>\n",
       "      <td>39</td>\n",
       "      <td>f</td>\n",
       "      <td>May-11</td>\n",
       "      <td>1</td>\n",
       "      <td>INDIVIDUAL</td>\n",
       "      <td>NaN</td>\n",
       "    </tr>\n",
       "    <tr>\n",
       "      <th>...</th>\n",
       "      <td>...</td>\n",
       "      <td>...</td>\n",
       "      <td>...</td>\n",
       "      <td>...</td>\n",
       "      <td>...</td>\n",
       "      <td>...</td>\n",
       "      <td>...</td>\n",
       "      <td>...</td>\n",
       "      <td>...</td>\n",
       "      <td>...</td>\n",
       "      <td>...</td>\n",
       "      <td>...</td>\n",
       "      <td>...</td>\n",
       "      <td>...</td>\n",
       "      <td>...</td>\n",
       "      <td>...</td>\n",
       "      <td>...</td>\n",
       "      <td>...</td>\n",
       "      <td>...</td>\n",
       "      <td>...</td>\n",
       "      <td>...</td>\n",
       "    </tr>\n",
       "    <tr>\n",
       "      <th>39712</th>\n",
       "      <td>92187</td>\n",
       "      <td>1075.000000</td>\n",
       "      <td>36 months</td>\n",
       "      <td>8.07%</td>\n",
       "      <td>78.42</td>\n",
       "      <td>A</td>\n",
       "      <td>A4</td>\n",
       "      <td>FiSite Research</td>\n",
       "      <td>4 years</td>\n",
       "      <td>MORTGAGE</td>\n",
       "      <td>...</td>\n",
       "      <td>Nov-90</td>\n",
       "      <td>0</td>\n",
       "      <td>13</td>\n",
       "      <td>0</td>\n",
       "      <td>40</td>\n",
       "      <td>f</td>\n",
       "      <td>Jun-10</td>\n",
       "      <td>1</td>\n",
       "      <td>INDIVIDUAL</td>\n",
       "      <td>NaN</td>\n",
       "    </tr>\n",
       "    <tr>\n",
       "      <th>39713</th>\n",
       "      <td>90665</td>\n",
       "      <td>875.000000</td>\n",
       "      <td>36 months</td>\n",
       "      <td>10.28%</td>\n",
       "      <td>275.38</td>\n",
       "      <td>C</td>\n",
       "      <td>C1</td>\n",
       "      <td>Squarewave Solutions, Ltd.</td>\n",
       "      <td>3 years</td>\n",
       "      <td>RENT</td>\n",
       "      <td>...</td>\n",
       "      <td>Dec-86</td>\n",
       "      <td>1</td>\n",
       "      <td>6</td>\n",
       "      <td>0</td>\n",
       "      <td>9</td>\n",
       "      <td>f</td>\n",
       "      <td>Jul-10</td>\n",
       "      <td>1</td>\n",
       "      <td>INDIVIDUAL</td>\n",
       "      <td>NaN</td>\n",
       "    </tr>\n",
       "    <tr>\n",
       "      <th>39714</th>\n",
       "      <td>90395</td>\n",
       "      <td>1325.000000</td>\n",
       "      <td>36 months</td>\n",
       "      <td>8.07%</td>\n",
       "      <td>156.84</td>\n",
       "      <td>A</td>\n",
       "      <td>A4</td>\n",
       "      <td>Unknown</td>\n",
       "      <td>&lt; 1 year</td>\n",
       "      <td>MORTGAGE</td>\n",
       "      <td>...</td>\n",
       "      <td>Oct-98</td>\n",
       "      <td>0</td>\n",
       "      <td>11</td>\n",
       "      <td>0</td>\n",
       "      <td>20</td>\n",
       "      <td>f</td>\n",
       "      <td>Jun-07</td>\n",
       "      <td>1</td>\n",
       "      <td>INDIVIDUAL</td>\n",
       "      <td>NaN</td>\n",
       "    </tr>\n",
       "    <tr>\n",
       "      <th>39715</th>\n",
       "      <td>90376</td>\n",
       "      <td>650.000000</td>\n",
       "      <td>36 months</td>\n",
       "      <td>7.43%</td>\n",
       "      <td>155.38</td>\n",
       "      <td>A</td>\n",
       "      <td>A2</td>\n",
       "      <td>Unknown</td>\n",
       "      <td>&lt; 1 year</td>\n",
       "      <td>MORTGAGE</td>\n",
       "      <td>...</td>\n",
       "      <td>Nov-88</td>\n",
       "      <td>0</td>\n",
       "      <td>17</td>\n",
       "      <td>0</td>\n",
       "      <td>26</td>\n",
       "      <td>f</td>\n",
       "      <td>Jun-07</td>\n",
       "      <td>1</td>\n",
       "      <td>INDIVIDUAL</td>\n",
       "      <td>NaN</td>\n",
       "    </tr>\n",
       "    <tr>\n",
       "      <th>39716</th>\n",
       "      <td>87023</td>\n",
       "      <td>800.000000</td>\n",
       "      <td>36 months</td>\n",
       "      <td>13.75%</td>\n",
       "      <td>255.43</td>\n",
       "      <td>E</td>\n",
       "      <td>E2</td>\n",
       "      <td>Evergreen Center</td>\n",
       "      <td>&lt; 1 year</td>\n",
       "      <td>OWN</td>\n",
       "      <td>...</td>\n",
       "      <td>Oct-03</td>\n",
       "      <td>0</td>\n",
       "      <td>7</td>\n",
       "      <td>0</td>\n",
       "      <td>8</td>\n",
       "      <td>f</td>\n",
       "      <td>Jun-10</td>\n",
       "      <td>1</td>\n",
       "      <td>INDIVIDUAL</td>\n",
       "      <td>NaN</td>\n",
       "    </tr>\n",
       "  </tbody>\n",
       "</table>\n",
       "<p>697 rows × 30 columns</p>\n",
       "</div>"
      ],
      "text/plain": [
       "          id  funded_amnt_inv        term int_rate  installment grade  \\\n",
       "35006  69001     14875.000000   36 months    8.94%       476.58     A   \n",
       "35058  59006      2988.236621   36 months   14.26%       102.92     C   \n",
       "35362  65426      3892.258856   36 months   11.14%       131.22     B   \n",
       "38443  68926       589.605658   36 months   13.17%        77.69     D   \n",
       "38717  69251       500.000000   36 months    8.00%       188.02     A   \n",
       "...      ...              ...         ...      ...          ...   ...   \n",
       "39712  92187      1075.000000   36 months    8.07%        78.42     A   \n",
       "39713  90665       875.000000   36 months   10.28%       275.38     C   \n",
       "39714  90395      1325.000000   36 months    8.07%       156.84     A   \n",
       "39715  90376       650.000000   36 months    7.43%       155.38     A   \n",
       "39716  87023       800.000000   36 months   13.75%       255.43     E   \n",
       "\n",
       "      sub_grade                   emp_title emp_length home_ownership  ...  \\\n",
       "35006        A5                     Unknown   < 1 year       MORTGAGE  ...   \n",
       "35058        C5                     Unknown    3 years       MORTGAGE  ...   \n",
       "35362        B1            Infotrieve, Inc.   < 1 year       MORTGAGE  ...   \n",
       "38443        D2                         UBS  10+ years           RENT  ...   \n",
       "38717        A3                     Unknown   < 1 year       MORTGAGE  ...   \n",
       "...         ...                         ...        ...            ...  ...   \n",
       "39712        A4             FiSite Research    4 years       MORTGAGE  ...   \n",
       "39713        C1  Squarewave Solutions, Ltd.    3 years           RENT  ...   \n",
       "39714        A4                     Unknown   < 1 year       MORTGAGE  ...   \n",
       "39715        A2                     Unknown   < 1 year       MORTGAGE  ...   \n",
       "39716        E2            Evergreen Center   < 1 year            OWN  ...   \n",
       "\n",
       "       earliest_cr_line inq_last_6mths open_acc  pub_rec total_acc  \\\n",
       "35006            Nov-91              1        6        0        19   \n",
       "35058            Jul-98              0       13        0        23   \n",
       "35362            Aug-95              0       14        0        33   \n",
       "38443            Dec-97              0        4        0        13   \n",
       "38717            Dec-94              1       16        0        39   \n",
       "...                 ...            ...      ...      ...       ...   \n",
       "39712            Nov-90              0       13        0        40   \n",
       "39713            Dec-86              1        6        0         9   \n",
       "39714            Oct-98              0       11        0        20   \n",
       "39715            Nov-88              0       17        0        26   \n",
       "39716            Oct-03              0        7        0         8   \n",
       "\n",
       "      initial_list_status last_credit_pull_d policy_code application_type  \\\n",
       "35006                   f             Aug-15           1       INDIVIDUAL   \n",
       "35058                   f             Sep-12           1       INDIVIDUAL   \n",
       "35362                   f             May-16           1       INDIVIDUAL   \n",
       "38443                   f             May-16           1       INDIVIDUAL   \n",
       "38717                   f             May-11           1       INDIVIDUAL   \n",
       "...                   ...                ...         ...              ...   \n",
       "39712                   f             Jun-10           1       INDIVIDUAL   \n",
       "39713                   f             Jul-10           1       INDIVIDUAL   \n",
       "39714                   f             Jun-07           1       INDIVIDUAL   \n",
       "39715                   f             Jun-07           1       INDIVIDUAL   \n",
       "39716                   f             Jun-10           1       INDIVIDUAL   \n",
       "\n",
       "       pub_rec_bankruptcies  \n",
       "35006                   NaN  \n",
       "35058                   NaN  \n",
       "35362                   NaN  \n",
       "38443                   NaN  \n",
       "38717                   NaN  \n",
       "...                     ...  \n",
       "39712                   NaN  \n",
       "39713                   NaN  \n",
       "39714                   NaN  \n",
       "39715                   NaN  \n",
       "39716                   NaN  \n",
       "\n",
       "[697 rows x 30 columns]"
      ]
     },
     "execution_count": 26,
     "metadata": {},
     "output_type": "execute_result"
    }
   ],
   "source": [
    "# check the null value records\n",
    "loan[loan.pub_rec_bankruptcies.isnull()]"
   ]
  },
  {
   "cell_type": "code",
   "execution_count": 27,
   "metadata": {},
   "outputs": [],
   "source": [
    "# drop records where pub_rec_bankruptcies and title is null\n",
    "loan = loan[~(loan.pub_rec_bankruptcies.isnull())]\n",
    "loan = loan[~(loan.title.isnull())]"
   ]
  },
  {
   "cell_type": "code",
   "execution_count": 28,
   "metadata": {},
   "outputs": [
    {
     "data": {
      "text/plain": [
       "id                      0.00\n",
       "funded_amnt_inv         0.00\n",
       "term                    0.00\n",
       "int_rate                0.00\n",
       "installment             0.00\n",
       "grade                   0.00\n",
       "sub_grade               0.00\n",
       "emp_title               0.00\n",
       "emp_length              2.73\n",
       "home_ownership          0.00\n",
       "annual_inc              0.00\n",
       "verification_status     0.00\n",
       "issue_d                 0.00\n",
       "loan_status             0.00\n",
       "pymnt_plan              0.00\n",
       "purpose                 0.00\n",
       "title                   0.00\n",
       "zip_code                0.00\n",
       "addr_state              0.00\n",
       "dti                     0.00\n",
       "earliest_cr_line        0.00\n",
       "inq_last_6mths          0.00\n",
       "open_acc                0.00\n",
       "pub_rec                 0.00\n",
       "total_acc               0.00\n",
       "initial_list_status     0.00\n",
       "last_credit_pull_d      0.00\n",
       "policy_code             0.00\n",
       "application_type        0.00\n",
       "pub_rec_bankruptcies    0.00\n",
       "dtype: float64"
      ]
     },
     "execution_count": 28,
     "metadata": {},
     "output_type": "execute_result"
    }
   ],
   "source": [
    "# check the null percentage again\n",
    "round(100*(loan.isnull().sum()/len(loan.index)),2)"
   ]
  },
  {
   "cell_type": "code",
   "execution_count": 29,
   "metadata": {},
   "outputs": [
    {
     "data": {
      "text/html": [
       "<div>\n",
       "<style scoped>\n",
       "    .dataframe tbody tr th:only-of-type {\n",
       "        vertical-align: middle;\n",
       "    }\n",
       "\n",
       "    .dataframe tbody tr th {\n",
       "        vertical-align: top;\n",
       "    }\n",
       "\n",
       "    .dataframe thead th {\n",
       "        text-align: right;\n",
       "    }\n",
       "</style>\n",
       "<table border=\"1\" class=\"dataframe\">\n",
       "  <thead>\n",
       "    <tr style=\"text-align: right;\">\n",
       "      <th></th>\n",
       "      <th>id</th>\n",
       "      <th>funded_amnt_inv</th>\n",
       "      <th>term</th>\n",
       "      <th>int_rate</th>\n",
       "      <th>installment</th>\n",
       "      <th>grade</th>\n",
       "      <th>sub_grade</th>\n",
       "      <th>emp_title</th>\n",
       "      <th>emp_length</th>\n",
       "      <th>home_ownership</th>\n",
       "      <th>...</th>\n",
       "      <th>earliest_cr_line</th>\n",
       "      <th>inq_last_6mths</th>\n",
       "      <th>open_acc</th>\n",
       "      <th>pub_rec</th>\n",
       "      <th>total_acc</th>\n",
       "      <th>initial_list_status</th>\n",
       "      <th>last_credit_pull_d</th>\n",
       "      <th>policy_code</th>\n",
       "      <th>application_type</th>\n",
       "      <th>pub_rec_bankruptcies</th>\n",
       "    </tr>\n",
       "  </thead>\n",
       "  <tbody>\n",
       "    <tr>\n",
       "      <th>168</th>\n",
       "      <td>1067644</td>\n",
       "      <td>2500.00000</td>\n",
       "      <td>36 months</td>\n",
       "      <td>7.51%</td>\n",
       "      <td>77.78</td>\n",
       "      <td>A</td>\n",
       "      <td>A3</td>\n",
       "      <td>Unknown</td>\n",
       "      <td>NaN</td>\n",
       "      <td>OWN</td>\n",
       "      <td>...</td>\n",
       "      <td>Aug-94</td>\n",
       "      <td>2</td>\n",
       "      <td>13</td>\n",
       "      <td>0</td>\n",
       "      <td>20</td>\n",
       "      <td>f</td>\n",
       "      <td>May-16</td>\n",
       "      <td>1</td>\n",
       "      <td>INDIVIDUAL</td>\n",
       "      <td>0.0</td>\n",
       "    </tr>\n",
       "    <tr>\n",
       "      <th>323</th>\n",
       "      <td>1058717</td>\n",
       "      <td>18000.00000</td>\n",
       "      <td>60 months</td>\n",
       "      <td>17.58%</td>\n",
       "      <td>452.98</td>\n",
       "      <td>D</td>\n",
       "      <td>D4</td>\n",
       "      <td>Unknown</td>\n",
       "      <td>NaN</td>\n",
       "      <td>MORTGAGE</td>\n",
       "      <td>...</td>\n",
       "      <td>Mar-03</td>\n",
       "      <td>1</td>\n",
       "      <td>11</td>\n",
       "      <td>0</td>\n",
       "      <td>28</td>\n",
       "      <td>f</td>\n",
       "      <td>Sep-15</td>\n",
       "      <td>1</td>\n",
       "      <td>INDIVIDUAL</td>\n",
       "      <td>0.0</td>\n",
       "    </tr>\n",
       "    <tr>\n",
       "      <th>394</th>\n",
       "      <td>1064582</td>\n",
       "      <td>4000.00000</td>\n",
       "      <td>36 months</td>\n",
       "      <td>11.71%</td>\n",
       "      <td>132.31</td>\n",
       "      <td>B</td>\n",
       "      <td>B3</td>\n",
       "      <td>Unknown</td>\n",
       "      <td>NaN</td>\n",
       "      <td>RENT</td>\n",
       "      <td>...</td>\n",
       "      <td>Feb-05</td>\n",
       "      <td>0</td>\n",
       "      <td>4</td>\n",
       "      <td>0</td>\n",
       "      <td>6</td>\n",
       "      <td>f</td>\n",
       "      <td>May-12</td>\n",
       "      <td>1</td>\n",
       "      <td>INDIVIDUAL</td>\n",
       "      <td>0.0</td>\n",
       "    </tr>\n",
       "    <tr>\n",
       "      <th>422</th>\n",
       "      <td>1064366</td>\n",
       "      <td>1000.00000</td>\n",
       "      <td>36 months</td>\n",
       "      <td>14.65%</td>\n",
       "      <td>34.50</td>\n",
       "      <td>C</td>\n",
       "      <td>C3</td>\n",
       "      <td>Unknown</td>\n",
       "      <td>NaN</td>\n",
       "      <td>RENT</td>\n",
       "      <td>...</td>\n",
       "      <td>Apr-93</td>\n",
       "      <td>2</td>\n",
       "      <td>3</td>\n",
       "      <td>1</td>\n",
       "      <td>8</td>\n",
       "      <td>f</td>\n",
       "      <td>Jun-12</td>\n",
       "      <td>1</td>\n",
       "      <td>INDIVIDUAL</td>\n",
       "      <td>1.0</td>\n",
       "    </tr>\n",
       "    <tr>\n",
       "      <th>439</th>\n",
       "      <td>1063912</td>\n",
       "      <td>8250.00000</td>\n",
       "      <td>36 months</td>\n",
       "      <td>7.51%</td>\n",
       "      <td>256.67</td>\n",
       "      <td>A</td>\n",
       "      <td>A3</td>\n",
       "      <td>Unknown</td>\n",
       "      <td>NaN</td>\n",
       "      <td>MORTGAGE</td>\n",
       "      <td>...</td>\n",
       "      <td>Dec-81</td>\n",
       "      <td>4</td>\n",
       "      <td>17</td>\n",
       "      <td>0</td>\n",
       "      <td>37</td>\n",
       "      <td>f</td>\n",
       "      <td>Dec-14</td>\n",
       "      <td>1</td>\n",
       "      <td>INDIVIDUAL</td>\n",
       "      <td>0.0</td>\n",
       "    </tr>\n",
       "    <tr>\n",
       "      <th>...</th>\n",
       "      <td>...</td>\n",
       "      <td>...</td>\n",
       "      <td>...</td>\n",
       "      <td>...</td>\n",
       "      <td>...</td>\n",
       "      <td>...</td>\n",
       "      <td>...</td>\n",
       "      <td>...</td>\n",
       "      <td>...</td>\n",
       "      <td>...</td>\n",
       "      <td>...</td>\n",
       "      <td>...</td>\n",
       "      <td>...</td>\n",
       "      <td>...</td>\n",
       "      <td>...</td>\n",
       "      <td>...</td>\n",
       "      <td>...</td>\n",
       "      <td>...</td>\n",
       "      <td>...</td>\n",
       "      <td>...</td>\n",
       "      <td>...</td>\n",
       "    </tr>\n",
       "    <tr>\n",
       "      <th>32591</th>\n",
       "      <td>480410</td>\n",
       "      <td>9975.00000</td>\n",
       "      <td>36 months</td>\n",
       "      <td>14.22%</td>\n",
       "      <td>342.85</td>\n",
       "      <td>C</td>\n",
       "      <td>C5</td>\n",
       "      <td>Unknown</td>\n",
       "      <td>NaN</td>\n",
       "      <td>RENT</td>\n",
       "      <td>...</td>\n",
       "      <td>Sep-00</td>\n",
       "      <td>0</td>\n",
       "      <td>9</td>\n",
       "      <td>0</td>\n",
       "      <td>17</td>\n",
       "      <td>f</td>\n",
       "      <td>Jul-10</td>\n",
       "      <td>1</td>\n",
       "      <td>INDIVIDUAL</td>\n",
       "      <td>0.0</td>\n",
       "    </tr>\n",
       "    <tr>\n",
       "      <th>32608</th>\n",
       "      <td>480216</td>\n",
       "      <td>3700.00000</td>\n",
       "      <td>36 months</td>\n",
       "      <td>14.22%</td>\n",
       "      <td>126.86</td>\n",
       "      <td>C</td>\n",
       "      <td>C5</td>\n",
       "      <td>Unknown</td>\n",
       "      <td>NaN</td>\n",
       "      <td>RENT</td>\n",
       "      <td>...</td>\n",
       "      <td>Aug-06</td>\n",
       "      <td>0</td>\n",
       "      <td>2</td>\n",
       "      <td>0</td>\n",
       "      <td>5</td>\n",
       "      <td>f</td>\n",
       "      <td>Apr-16</td>\n",
       "      <td>1</td>\n",
       "      <td>INDIVIDUAL</td>\n",
       "      <td>0.0</td>\n",
       "    </tr>\n",
       "    <tr>\n",
       "      <th>32621</th>\n",
       "      <td>479954</td>\n",
       "      <td>9731.17513</td>\n",
       "      <td>36 months</td>\n",
       "      <td>14.22%</td>\n",
       "      <td>342.85</td>\n",
       "      <td>C</td>\n",
       "      <td>C5</td>\n",
       "      <td>Unknown</td>\n",
       "      <td>NaN</td>\n",
       "      <td>MORTGAGE</td>\n",
       "      <td>...</td>\n",
       "      <td>Apr-00</td>\n",
       "      <td>3</td>\n",
       "      <td>3</td>\n",
       "      <td>0</td>\n",
       "      <td>19</td>\n",
       "      <td>f</td>\n",
       "      <td>Apr-16</td>\n",
       "      <td>1</td>\n",
       "      <td>INDIVIDUAL</td>\n",
       "      <td>0.0</td>\n",
       "    </tr>\n",
       "    <tr>\n",
       "      <th>32631</th>\n",
       "      <td>479836</td>\n",
       "      <td>6000.00000</td>\n",
       "      <td>36 months</td>\n",
       "      <td>12.73%</td>\n",
       "      <td>201.40</td>\n",
       "      <td>C</td>\n",
       "      <td>C1</td>\n",
       "      <td>Tong Parks</td>\n",
       "      <td>NaN</td>\n",
       "      <td>MORTGAGE</td>\n",
       "      <td>...</td>\n",
       "      <td>Oct-01</td>\n",
       "      <td>0</td>\n",
       "      <td>7</td>\n",
       "      <td>1</td>\n",
       "      <td>12</td>\n",
       "      <td>f</td>\n",
       "      <td>Feb-13</td>\n",
       "      <td>1</td>\n",
       "      <td>INDIVIDUAL</td>\n",
       "      <td>0.0</td>\n",
       "    </tr>\n",
       "    <tr>\n",
       "      <th>32665</th>\n",
       "      <td>479468</td>\n",
       "      <td>23912.90328</td>\n",
       "      <td>36 months</td>\n",
       "      <td>10.25%</td>\n",
       "      <td>809.62</td>\n",
       "      <td>B</td>\n",
       "      <td>B2</td>\n",
       "      <td>Unknown</td>\n",
       "      <td>NaN</td>\n",
       "      <td>MORTGAGE</td>\n",
       "      <td>...</td>\n",
       "      <td>Feb-88</td>\n",
       "      <td>1</td>\n",
       "      <td>11</td>\n",
       "      <td>0</td>\n",
       "      <td>19</td>\n",
       "      <td>f</td>\n",
       "      <td>Jun-12</td>\n",
       "      <td>1</td>\n",
       "      <td>INDIVIDUAL</td>\n",
       "      <td>0.0</td>\n",
       "    </tr>\n",
       "  </tbody>\n",
       "</table>\n",
       "<p>1032 rows × 30 columns</p>\n",
       "</div>"
      ],
      "text/plain": [
       "            id  funded_amnt_inv        term int_rate  installment grade  \\\n",
       "168    1067644       2500.00000   36 months    7.51%        77.78     A   \n",
       "323    1058717      18000.00000   60 months   17.58%       452.98     D   \n",
       "394    1064582       4000.00000   36 months   11.71%       132.31     B   \n",
       "422    1064366       1000.00000   36 months   14.65%        34.50     C   \n",
       "439    1063912       8250.00000   36 months    7.51%       256.67     A   \n",
       "...        ...              ...         ...      ...          ...   ...   \n",
       "32591   480410       9975.00000   36 months   14.22%       342.85     C   \n",
       "32608   480216       3700.00000   36 months   14.22%       126.86     C   \n",
       "32621   479954       9731.17513   36 months   14.22%       342.85     C   \n",
       "32631   479836       6000.00000   36 months   12.73%       201.40     C   \n",
       "32665   479468      23912.90328   36 months   10.25%       809.62     B   \n",
       "\n",
       "      sub_grade   emp_title emp_length home_ownership  ...  earliest_cr_line  \\\n",
       "168          A3     Unknown        NaN            OWN  ...            Aug-94   \n",
       "323          D4     Unknown        NaN       MORTGAGE  ...            Mar-03   \n",
       "394          B3     Unknown        NaN           RENT  ...            Feb-05   \n",
       "422          C3     Unknown        NaN           RENT  ...            Apr-93   \n",
       "439          A3     Unknown        NaN       MORTGAGE  ...            Dec-81   \n",
       "...         ...         ...        ...            ...  ...               ...   \n",
       "32591        C5     Unknown        NaN           RENT  ...            Sep-00   \n",
       "32608        C5     Unknown        NaN           RENT  ...            Aug-06   \n",
       "32621        C5     Unknown        NaN       MORTGAGE  ...            Apr-00   \n",
       "32631        C1  Tong Parks        NaN       MORTGAGE  ...            Oct-01   \n",
       "32665        B2     Unknown        NaN       MORTGAGE  ...            Feb-88   \n",
       "\n",
       "      inq_last_6mths open_acc  pub_rec total_acc initial_list_status  \\\n",
       "168                2       13        0        20                   f   \n",
       "323                1       11        0        28                   f   \n",
       "394                0        4        0         6                   f   \n",
       "422                2        3        1         8                   f   \n",
       "439                4       17        0        37                   f   \n",
       "...              ...      ...      ...       ...                 ...   \n",
       "32591              0        9        0        17                   f   \n",
       "32608              0        2        0         5                   f   \n",
       "32621              3        3        0        19                   f   \n",
       "32631              0        7        1        12                   f   \n",
       "32665              1       11        0        19                   f   \n",
       "\n",
       "      last_credit_pull_d policy_code application_type  pub_rec_bankruptcies  \n",
       "168               May-16           1       INDIVIDUAL                   0.0  \n",
       "323               Sep-15           1       INDIVIDUAL                   0.0  \n",
       "394               May-12           1       INDIVIDUAL                   0.0  \n",
       "422               Jun-12           1       INDIVIDUAL                   1.0  \n",
       "439               Dec-14           1       INDIVIDUAL                   0.0  \n",
       "...                  ...         ...              ...                   ...  \n",
       "32591             Jul-10           1       INDIVIDUAL                   0.0  \n",
       "32608             Apr-16           1       INDIVIDUAL                   0.0  \n",
       "32621             Apr-16           1       INDIVIDUAL                   0.0  \n",
       "32631             Feb-13           1       INDIVIDUAL                   0.0  \n",
       "32665             Jun-12           1       INDIVIDUAL                   0.0  \n",
       "\n",
       "[1032 rows x 30 columns]"
      ]
     },
     "execution_count": 29,
     "metadata": {},
     "output_type": "execute_result"
    }
   ],
   "source": [
    "# there is 2.73% record with null value in emp_length. Let's check these records\n",
    "loan[loan.emp_length.isnull()]"
   ]
  },
  {
   "cell_type": "code",
   "execution_count": 30,
   "metadata": {},
   "outputs": [
    {
     "data": {
      "text/plain": [
       "10+ years    8368\n",
       "< 1 year     4340\n",
       "2 years      4207\n",
       "3 years      3951\n",
       "4 years      3295\n",
       "5 years      3159\n",
       "1 year       3076\n",
       "6 years      2135\n",
       "7 years      1688\n",
       "8 years      1410\n",
       "9 years      1208\n",
       "Name: emp_length, dtype: int64"
      ]
     },
     "execution_count": 30,
     "metadata": {},
     "output_type": "execute_result"
    }
   ],
   "source": [
    "# check the values in emp_length column\n",
    "loan.emp_length.value_counts()"
   ]
  },
  {
   "cell_type": "code",
   "execution_count": 31,
   "metadata": {},
   "outputs": [
    {
     "data": {
      "text/plain": [
       "'10+ years'"
      ]
     },
     "execution_count": 31,
     "metadata": {},
     "output_type": "execute_result"
    }
   ],
   "source": [
    "# missing value can be impute with \"10+ years\"\n",
    "val = loan.emp_length.mode()[0]\n",
    "val"
   ]
  },
  {
   "cell_type": "code",
   "execution_count": 32,
   "metadata": {},
   "outputs": [],
   "source": [
    "# impute the missing value in emp_length with abobe value \n",
    "loan.emp_length = loan.emp_length.fillna(val)"
   ]
  },
  {
   "cell_type": "code",
   "execution_count": 33,
   "metadata": {},
   "outputs": [
    {
     "data": {
      "text/plain": [
       "id                      0.0\n",
       "funded_amnt_inv         0.0\n",
       "term                    0.0\n",
       "int_rate                0.0\n",
       "installment             0.0\n",
       "grade                   0.0\n",
       "sub_grade               0.0\n",
       "emp_title               0.0\n",
       "emp_length              0.0\n",
       "home_ownership          0.0\n",
       "annual_inc              0.0\n",
       "verification_status     0.0\n",
       "issue_d                 0.0\n",
       "loan_status             0.0\n",
       "pymnt_plan              0.0\n",
       "purpose                 0.0\n",
       "title                   0.0\n",
       "zip_code                0.0\n",
       "addr_state              0.0\n",
       "dti                     0.0\n",
       "earliest_cr_line        0.0\n",
       "inq_last_6mths          0.0\n",
       "open_acc                0.0\n",
       "pub_rec                 0.0\n",
       "total_acc               0.0\n",
       "initial_list_status     0.0\n",
       "last_credit_pull_d      0.0\n",
       "policy_code             0.0\n",
       "application_type        0.0\n",
       "pub_rec_bankruptcies    0.0\n",
       "dtype: float64"
      ]
     },
     "execution_count": 33,
     "metadata": {},
     "output_type": "execute_result"
    }
   ],
   "source": [
    "# checking null value one more time\n",
    "round(100*(loan.isnull().sum()/len(loan.index)),2)"
   ]
  },
  {
   "cell_type": "markdown",
   "metadata": {},
   "source": [
    "### Check and correct the data type of imp columns\n",
    "- Now the data doesn't have any missing values\n",
    "- Check the data types of imp columns and replace the value. Change the data type to numeric or float for column like int rate "
   ]
  },
  {
   "cell_type": "code",
   "execution_count": 34,
   "metadata": {},
   "outputs": [
    {
     "name": "stdout",
     "output_type": "stream",
     "text": [
      "<class 'pandas.core.frame.DataFrame'>\n",
      "Int64Index: 37869 entries, 0 to 39680\n",
      "Data columns (total 30 columns):\n",
      " #   Column                Non-Null Count  Dtype  \n",
      "---  ------                --------------  -----  \n",
      " 0   id                    37869 non-null  int64  \n",
      " 1   funded_amnt_inv       37869 non-null  float64\n",
      " 2   term                  37869 non-null  object \n",
      " 3   int_rate              37869 non-null  object \n",
      " 4   installment           37869 non-null  float64\n",
      " 5   grade                 37869 non-null  object \n",
      " 6   sub_grade             37869 non-null  object \n",
      " 7   emp_title             37869 non-null  object \n",
      " 8   emp_length            37869 non-null  object \n",
      " 9   home_ownership        37869 non-null  object \n",
      " 10  annual_inc            37869 non-null  float64\n",
      " 11  verification_status   37869 non-null  object \n",
      " 12  issue_d               37869 non-null  object \n",
      " 13  loan_status           37869 non-null  int64  \n",
      " 14  pymnt_plan            37869 non-null  object \n",
      " 15  purpose               37869 non-null  object \n",
      " 16  title                 37869 non-null  object \n",
      " 17  zip_code              37869 non-null  object \n",
      " 18  addr_state            37869 non-null  object \n",
      " 19  dti                   37869 non-null  float64\n",
      " 20  earliest_cr_line      37869 non-null  object \n",
      " 21  inq_last_6mths        37869 non-null  int64  \n",
      " 22  open_acc              37869 non-null  int64  \n",
      " 23  pub_rec               37869 non-null  int64  \n",
      " 24  total_acc             37869 non-null  int64  \n",
      " 25  initial_list_status   37869 non-null  object \n",
      " 26  last_credit_pull_d    37868 non-null  object \n",
      " 27  policy_code           37869 non-null  int64  \n",
      " 28  application_type      37869 non-null  object \n",
      " 29  pub_rec_bankruptcies  37869 non-null  float64\n",
      "dtypes: float64(5), int64(7), object(18)\n",
      "memory usage: 9.0+ MB\n"
     ]
    }
   ],
   "source": [
    "# Check info for all columns\n",
    "loan.info()"
   ]
  },
  {
   "cell_type": "markdown",
   "metadata": {},
   "source": [
    "### We will correct the data type of imp column like int_rate, term, emp_length                   "
   ]
  },
  {
   "cell_type": "code",
   "execution_count": 35,
   "metadata": {},
   "outputs": [
    {
     "data": {
      "text/plain": [
       "10.99%    913\n",
       "11.49%    788\n",
       "7.51%     787\n",
       "13.49%    749\n",
       "7.88%     725\n",
       "         ... \n",
       "13.93%      1\n",
       "10.46%      1\n",
       "12.49%      1\n",
       "17.46%      1\n",
       "10.91%      1\n",
       "Name: int_rate, Length: 336, dtype: int64"
      ]
     },
     "execution_count": 35,
     "metadata": {},
     "output_type": "execute_result"
    }
   ],
   "source": [
    "# interest rate should be float and not object\n",
    "loan.int_rate.value_counts()"
   ]
  },
  {
   "cell_type": "code",
   "execution_count": 36,
   "metadata": {},
   "outputs": [],
   "source": [
    "# we have to remove \"%\" value from this column\n",
    "loan.int_rate = loan.int_rate.apply(lambda x:x.replace(\"%\",\"\"))"
   ]
  },
  {
   "cell_type": "code",
   "execution_count": 37,
   "metadata": {},
   "outputs": [
    {
     "data": {
      "text/plain": [
       "10.99    913\n",
       "11.49    788\n",
       "7.51     787\n",
       "13.49    749\n",
       "7.88     725\n",
       "        ... \n",
       "10.46      1\n",
       "9.83       1\n",
       "18.72      1\n",
       "17.44      1\n",
       "10.91      1\n",
       "Name: int_rate, Length: 336, dtype: int64"
      ]
     },
     "execution_count": 37,
     "metadata": {},
     "output_type": "execute_result"
    }
   ],
   "source": [
    "# check the value counts\n",
    "loan.int_rate.value_counts()"
   ]
  },
  {
   "cell_type": "code",
   "execution_count": 38,
   "metadata": {},
   "outputs": [
    {
     "data": {
      "text/plain": [
       "dtype('O')"
      ]
     },
     "execution_count": 38,
     "metadata": {},
     "output_type": "execute_result"
    }
   ],
   "source": [
    "loan.int_rate.dtype"
   ]
  },
  {
   "cell_type": "code",
   "execution_count": 39,
   "metadata": {},
   "outputs": [],
   "source": [
    "# set the data type as 'float'\n",
    "loan.int_rate = loan.int_rate.astype('float')"
   ]
  },
  {
   "cell_type": "code",
   "execution_count": 40,
   "metadata": {},
   "outputs": [
    {
     "data": {
      "text/plain": [
       "dtype('float64')"
      ]
     },
     "execution_count": 40,
     "metadata": {},
     "output_type": "execute_result"
    }
   ],
   "source": [
    "# verify the data type of interest rate again\n",
    "loan.int_rate.dtype"
   ]
  },
  {
   "cell_type": "code",
   "execution_count": 41,
   "metadata": {},
   "outputs": [
    {
     "data": {
      "text/plain": [
       "dtype('O')"
      ]
     },
     "execution_count": 41,
     "metadata": {},
     "output_type": "execute_result"
    }
   ],
   "source": [
    "# Employee length should be integer and not object\n",
    "loan.emp_length.dtype"
   ]
  },
  {
   "cell_type": "code",
   "execution_count": 42,
   "metadata": {},
   "outputs": [
    {
     "data": {
      "text/plain": [
       "10+ years    9400\n",
       "< 1 year     4340\n",
       "2 years      4207\n",
       "3 years      3951\n",
       "4 years      3295\n",
       "5 years      3159\n",
       "1 year       3076\n",
       "6 years      2135\n",
       "7 years      1688\n",
       "8 years      1410\n",
       "9 years      1208\n",
       "Name: emp_length, dtype: int64"
      ]
     },
     "execution_count": 42,
     "metadata": {},
     "output_type": "execute_result"
    }
   ],
   "source": [
    "# we will check the value in this column \n",
    "loan.emp_length.value_counts()"
   ]
  },
  {
   "cell_type": "code",
   "execution_count": 43,
   "metadata": {},
   "outputs": [],
   "source": [
    "# the values in this column need to replace \n",
    "# Replace +, <1 and years\n",
    "loan.emp_length = loan.emp_length.apply(lambda x:x.replace(\"+\",\"\"))\n",
    "loan.emp_length = loan.emp_length.apply(lambda x:x.replace(\"< 1\",\"0\"))\n",
    "loan.emp_length = loan.emp_length.apply(lambda x:x.replace(\" years\",\"\"))\n",
    "loan.emp_length = loan.emp_length.apply(lambda x:x.replace(\" year\",\"\"))"
   ]
  },
  {
   "cell_type": "code",
   "execution_count": 44,
   "metadata": {},
   "outputs": [
    {
     "data": {
      "text/plain": [
       "10    9400\n",
       "0     4340\n",
       "2     4207\n",
       "3     3951\n",
       "4     3295\n",
       "5     3159\n",
       "1     3076\n",
       "6     2135\n",
       "7     1688\n",
       "8     1410\n",
       "9     1208\n",
       "Name: emp_length, dtype: int64"
      ]
     },
     "execution_count": 44,
     "metadata": {},
     "output_type": "execute_result"
    }
   ],
   "source": [
    "# check the value count again\n",
    "loan.emp_length.value_counts()"
   ]
  },
  {
   "cell_type": "code",
   "execution_count": 45,
   "metadata": {},
   "outputs": [],
   "source": [
    "# set the data type as integer\n",
    "loan.emp_length = loan.emp_length.astype('int32')"
   ]
  },
  {
   "cell_type": "code",
   "execution_count": 46,
   "metadata": {},
   "outputs": [
    {
     "data": {
      "text/plain": [
       " 36 months    28392\n",
       " 60 months     9477\n",
       "Name: term, dtype: int64"
      ]
     },
     "execution_count": 46,
     "metadata": {},
     "output_type": "execute_result"
    }
   ],
   "source": [
    "# now we will check the value in term column \n",
    "loan.term.value_counts()"
   ]
  },
  {
   "cell_type": "code",
   "execution_count": 47,
   "metadata": {},
   "outputs": [],
   "source": [
    "# remove \"months\" from loan term value\n",
    "loan.term = loan.term.apply(lambda x:x.replace(\" months\",\"\"))"
   ]
  },
  {
   "cell_type": "code",
   "execution_count": 48,
   "metadata": {},
   "outputs": [],
   "source": [
    "# set the data type of term as integer\n",
    "loan.term = loan.term.astype('int32')"
   ]
  },
  {
   "cell_type": "code",
   "execution_count": 49,
   "metadata": {},
   "outputs": [
    {
     "name": "stdout",
     "output_type": "stream",
     "text": [
      "<class 'pandas.core.frame.DataFrame'>\n",
      "RangeIndex: 37869 entries, 0 to 37868\n",
      "Data columns (total 30 columns):\n",
      " #   Column                Non-Null Count  Dtype  \n",
      "---  ------                --------------  -----  \n",
      " 0   id                    37869 non-null  int64  \n",
      " 1   funded_amnt_inv       37869 non-null  float64\n",
      " 2   term                  37869 non-null  int32  \n",
      " 3   int_rate              37869 non-null  float64\n",
      " 4   installment           37869 non-null  float64\n",
      " 5   grade                 37869 non-null  object \n",
      " 6   sub_grade             37869 non-null  object \n",
      " 7   emp_title             37869 non-null  object \n",
      " 8   emp_length            37869 non-null  int32  \n",
      " 9   home_ownership        37869 non-null  object \n",
      " 10  annual_inc            37869 non-null  float64\n",
      " 11  verification_status   37869 non-null  object \n",
      " 12  issue_d               37869 non-null  object \n",
      " 13  loan_status           37869 non-null  int64  \n",
      " 14  pymnt_plan            37869 non-null  object \n",
      " 15  purpose               37869 non-null  object \n",
      " 16  title                 37869 non-null  object \n",
      " 17  zip_code              37869 non-null  object \n",
      " 18  addr_state            37869 non-null  object \n",
      " 19  dti                   37869 non-null  float64\n",
      " 20  earliest_cr_line      37869 non-null  object \n",
      " 21  inq_last_6mths        37869 non-null  int64  \n",
      " 22  open_acc              37869 non-null  int64  \n",
      " 23  pub_rec               37869 non-null  int64  \n",
      " 24  total_acc             37869 non-null  int64  \n",
      " 25  initial_list_status   37869 non-null  object \n",
      " 26  last_credit_pull_d    37868 non-null  object \n",
      " 27  policy_code           37869 non-null  int64  \n",
      " 28  application_type      37869 non-null  object \n",
      " 29  pub_rec_bankruptcies  37869 non-null  float64\n",
      "dtypes: float64(6), int32(2), int64(7), object(15)\n",
      "memory usage: 8.4+ MB\n"
     ]
    }
   ],
   "source": [
    "# reset the index and check the info again\n",
    "loan.reset_index(inplace=True, drop=True)\n",
    "loan.info()"
   ]
  },
  {
   "cell_type": "code",
   "execution_count": 50,
   "metadata": {},
   "outputs": [],
   "source": [
    "# writing the clean dataframe to an another file\n",
    "loan.to_csv(\"loan_df.csv\", sep=',', index=False)"
   ]
  },
  {
   "cell_type": "code",
   "execution_count": 51,
   "metadata": {},
   "outputs": [],
   "source": [
    "# read the updated data again\n",
    "clean_loan = pd.read_csv(\"loan_df.csv\", sep=',')"
   ]
  },
  {
   "cell_type": "code",
   "execution_count": 52,
   "metadata": {},
   "outputs": [
    {
     "data": {
      "text/plain": [
       "(37869, 30)"
      ]
     },
     "execution_count": 52,
     "metadata": {},
     "output_type": "execute_result"
    }
   ],
   "source": [
    "# check the shape\n",
    "clean_loan.shape"
   ]
  },
  {
   "cell_type": "code",
   "execution_count": 53,
   "metadata": {
    "scrolled": true
   },
   "outputs": [
    {
     "data": {
      "text/html": [
       "<div>\n",
       "<style scoped>\n",
       "    .dataframe tbody tr th:only-of-type {\n",
       "        vertical-align: middle;\n",
       "    }\n",
       "\n",
       "    .dataframe tbody tr th {\n",
       "        vertical-align: top;\n",
       "    }\n",
       "\n",
       "    .dataframe thead th {\n",
       "        text-align: right;\n",
       "    }\n",
       "</style>\n",
       "<table border=\"1\" class=\"dataframe\">\n",
       "  <thead>\n",
       "    <tr style=\"text-align: right;\">\n",
       "      <th></th>\n",
       "      <th>id</th>\n",
       "      <th>funded_amnt_inv</th>\n",
       "      <th>term</th>\n",
       "      <th>int_rate</th>\n",
       "      <th>installment</th>\n",
       "      <th>grade</th>\n",
       "      <th>sub_grade</th>\n",
       "      <th>emp_title</th>\n",
       "      <th>emp_length</th>\n",
       "      <th>home_ownership</th>\n",
       "      <th>...</th>\n",
       "      <th>earliest_cr_line</th>\n",
       "      <th>inq_last_6mths</th>\n",
       "      <th>open_acc</th>\n",
       "      <th>pub_rec</th>\n",
       "      <th>total_acc</th>\n",
       "      <th>initial_list_status</th>\n",
       "      <th>last_credit_pull_d</th>\n",
       "      <th>policy_code</th>\n",
       "      <th>application_type</th>\n",
       "      <th>pub_rec_bankruptcies</th>\n",
       "    </tr>\n",
       "  </thead>\n",
       "  <tbody>\n",
       "    <tr>\n",
       "      <th>0</th>\n",
       "      <td>1077501</td>\n",
       "      <td>4975.0</td>\n",
       "      <td>36</td>\n",
       "      <td>10.65</td>\n",
       "      <td>162.87</td>\n",
       "      <td>B</td>\n",
       "      <td>B2</td>\n",
       "      <td>Unknown</td>\n",
       "      <td>10</td>\n",
       "      <td>RENT</td>\n",
       "      <td>...</td>\n",
       "      <td>Jan-85</td>\n",
       "      <td>1</td>\n",
       "      <td>3</td>\n",
       "      <td>0</td>\n",
       "      <td>9</td>\n",
       "      <td>f</td>\n",
       "      <td>May-16</td>\n",
       "      <td>1</td>\n",
       "      <td>INDIVIDUAL</td>\n",
       "      <td>0.0</td>\n",
       "    </tr>\n",
       "    <tr>\n",
       "      <th>1</th>\n",
       "      <td>1077430</td>\n",
       "      <td>2500.0</td>\n",
       "      <td>60</td>\n",
       "      <td>15.27</td>\n",
       "      <td>59.83</td>\n",
       "      <td>C</td>\n",
       "      <td>C4</td>\n",
       "      <td>Ryder</td>\n",
       "      <td>0</td>\n",
       "      <td>RENT</td>\n",
       "      <td>...</td>\n",
       "      <td>Apr-99</td>\n",
       "      <td>5</td>\n",
       "      <td>3</td>\n",
       "      <td>0</td>\n",
       "      <td>4</td>\n",
       "      <td>f</td>\n",
       "      <td>Sep-13</td>\n",
       "      <td>1</td>\n",
       "      <td>INDIVIDUAL</td>\n",
       "      <td>0.0</td>\n",
       "    </tr>\n",
       "    <tr>\n",
       "      <th>2</th>\n",
       "      <td>1077175</td>\n",
       "      <td>2400.0</td>\n",
       "      <td>36</td>\n",
       "      <td>15.96</td>\n",
       "      <td>84.33</td>\n",
       "      <td>C</td>\n",
       "      <td>C5</td>\n",
       "      <td>Unknown</td>\n",
       "      <td>10</td>\n",
       "      <td>RENT</td>\n",
       "      <td>...</td>\n",
       "      <td>Nov-01</td>\n",
       "      <td>2</td>\n",
       "      <td>2</td>\n",
       "      <td>0</td>\n",
       "      <td>10</td>\n",
       "      <td>f</td>\n",
       "      <td>May-16</td>\n",
       "      <td>1</td>\n",
       "      <td>INDIVIDUAL</td>\n",
       "      <td>0.0</td>\n",
       "    </tr>\n",
       "    <tr>\n",
       "      <th>3</th>\n",
       "      <td>1076863</td>\n",
       "      <td>10000.0</td>\n",
       "      <td>36</td>\n",
       "      <td>13.49</td>\n",
       "      <td>339.31</td>\n",
       "      <td>C</td>\n",
       "      <td>C1</td>\n",
       "      <td>AIR RESOURCES BOARD</td>\n",
       "      <td>10</td>\n",
       "      <td>RENT</td>\n",
       "      <td>...</td>\n",
       "      <td>Feb-96</td>\n",
       "      <td>1</td>\n",
       "      <td>10</td>\n",
       "      <td>0</td>\n",
       "      <td>37</td>\n",
       "      <td>f</td>\n",
       "      <td>Apr-16</td>\n",
       "      <td>1</td>\n",
       "      <td>INDIVIDUAL</td>\n",
       "      <td>0.0</td>\n",
       "    </tr>\n",
       "    <tr>\n",
       "      <th>4</th>\n",
       "      <td>1075269</td>\n",
       "      <td>5000.0</td>\n",
       "      <td>36</td>\n",
       "      <td>7.90</td>\n",
       "      <td>156.46</td>\n",
       "      <td>A</td>\n",
       "      <td>A4</td>\n",
       "      <td>Veolia Transportaton</td>\n",
       "      <td>3</td>\n",
       "      <td>RENT</td>\n",
       "      <td>...</td>\n",
       "      <td>Nov-04</td>\n",
       "      <td>3</td>\n",
       "      <td>9</td>\n",
       "      <td>0</td>\n",
       "      <td>12</td>\n",
       "      <td>f</td>\n",
       "      <td>Jan-16</td>\n",
       "      <td>1</td>\n",
       "      <td>INDIVIDUAL</td>\n",
       "      <td>0.0</td>\n",
       "    </tr>\n",
       "  </tbody>\n",
       "</table>\n",
       "<p>5 rows × 30 columns</p>\n",
       "</div>"
      ],
      "text/plain": [
       "        id  funded_amnt_inv  term  int_rate  installment grade sub_grade  \\\n",
       "0  1077501           4975.0    36     10.65       162.87     B        B2   \n",
       "1  1077430           2500.0    60     15.27        59.83     C        C4   \n",
       "2  1077175           2400.0    36     15.96        84.33     C        C5   \n",
       "3  1076863          10000.0    36     13.49       339.31     C        C1   \n",
       "4  1075269           5000.0    36      7.90       156.46     A        A4   \n",
       "\n",
       "              emp_title  emp_length home_ownership  ...  earliest_cr_line  \\\n",
       "0               Unknown          10           RENT  ...            Jan-85   \n",
       "1                 Ryder           0           RENT  ...            Apr-99   \n",
       "2               Unknown          10           RENT  ...            Nov-01   \n",
       "3   AIR RESOURCES BOARD          10           RENT  ...            Feb-96   \n",
       "4  Veolia Transportaton           3           RENT  ...            Nov-04   \n",
       "\n",
       "  inq_last_6mths open_acc  pub_rec total_acc initial_list_status  \\\n",
       "0              1        3        0         9                   f   \n",
       "1              5        3        0         4                   f   \n",
       "2              2        2        0        10                   f   \n",
       "3              1       10        0        37                   f   \n",
       "4              3        9        0        12                   f   \n",
       "\n",
       "  last_credit_pull_d policy_code application_type  pub_rec_bankruptcies  \n",
       "0             May-16           1       INDIVIDUAL                   0.0  \n",
       "1             Sep-13           1       INDIVIDUAL                   0.0  \n",
       "2             May-16           1       INDIVIDUAL                   0.0  \n",
       "3             Apr-16           1       INDIVIDUAL                   0.0  \n",
       "4             Jan-16           1       INDIVIDUAL                   0.0  \n",
       "\n",
       "[5 rows x 30 columns]"
      ]
     },
     "execution_count": 53,
     "metadata": {},
     "output_type": "execute_result"
    }
   ],
   "source": [
    "# sample data\n",
    "clean_loan.head()"
   ]
  },
  {
   "cell_type": "code",
   "execution_count": 54,
   "metadata": {},
   "outputs": [
    {
     "data": {
      "image/png": "[encoded data removed]",
      "text/plain": [
       "<Figure size 432x288 with 1 Axes>"
      ]
     },
     "metadata": {
      "needs_background": "light"
     },
     "output_type": "display_data"
    }
   ],
   "source": [
    "#Create a box plot for the funded_amnt_inv column to check outliers\n",
    "plt.boxplot(clean_loan.funded_amnt_inv)\n",
    "plt.show()"
   ]
  },
  {
   "cell_type": "code",
   "execution_count": 55,
   "metadata": {},
   "outputs": [
    {
     "data": {
      "text/plain": [
       "count    37869.000000\n",
       "mean     10368.005164\n",
       "std       6999.515924\n",
       "min          0.000000\n",
       "25%       5000.000000\n",
       "50%       8975.000000\n",
       "75%      14200.000000\n",
       "max      35000.000000\n",
       "Name: funded_amnt_inv, dtype: float64"
      ]
     },
     "execution_count": 55,
     "metadata": {},
     "output_type": "execute_result"
    }
   ],
   "source": [
    "# there is not much difference in value for loan amount. i.e. there is no outliers\n",
    "clean_loan.funded_amnt_inv.describe()"
   ]
  },
  {
   "cell_type": "markdown",
   "metadata": {},
   "source": [
    "## 3. Univariate Analysis"
   ]
  },
  {
   "cell_type": "code",
   "execution_count": 56,
   "metadata": {},
   "outputs": [
    {
     "data": {
      "text/plain": [
       "n    37869\n",
       "Name: pymnt_plan, dtype: int64"
      ]
     },
     "execution_count": 56,
     "metadata": {},
     "output_type": "execute_result"
    }
   ],
   "source": [
    "# check pymnt_plan column\n",
    "clean_loan.pymnt_plan.value_counts()"
   ]
  },
  {
   "cell_type": "code",
   "execution_count": 57,
   "metadata": {},
   "outputs": [],
   "source": [
    "#payment_plan has the same value in across the rows. So droping this column.\n",
    "clean_loan = clean_loan.drop(\"pymnt_plan\", axis=1)"
   ]
  },
  {
   "cell_type": "code",
   "execution_count": 58,
   "metadata": {},
   "outputs": [
    {
     "data": {
      "text/plain": [
       "INDIVIDUAL    37869\n",
       "Name: application_type, dtype: int64"
      ]
     },
     "execution_count": 58,
     "metadata": {},
     "output_type": "execute_result"
    }
   ],
   "source": [
    "# check application_type column\n",
    "clean_loan.application_type.value_counts()"
   ]
  },
  {
   "cell_type": "code",
   "execution_count": 59,
   "metadata": {},
   "outputs": [],
   "source": [
    "#application_type has the same value in across the rows. So droping this column.\n",
    "clean_loan = clean_loan.drop(\"application_type\", axis=1)"
   ]
  },
  {
   "cell_type": "code",
   "execution_count": 60,
   "metadata": {},
   "outputs": [
    {
     "data": {
      "text/plain": [
       "1    37869\n",
       "Name: policy_code, dtype: int64"
      ]
     },
     "execution_count": 60,
     "metadata": {},
     "output_type": "execute_result"
    }
   ],
   "source": [
    "# check policy_code column\n",
    "clean_loan.policy_code.value_counts()"
   ]
  },
  {
   "cell_type": "code",
   "execution_count": 61,
   "metadata": {},
   "outputs": [],
   "source": [
    "#policy_code has the same value in across the rows. So droping this column.\n",
    "clean_loan = clean_loan.drop(\"policy_code\", axis=1)"
   ]
  },
  {
   "cell_type": "code",
   "execution_count": 62,
   "metadata": {},
   "outputs": [
    {
     "data": {
      "text/plain": [
       "f    37869\n",
       "Name: initial_list_status, dtype: int64"
      ]
     },
     "execution_count": 62,
     "metadata": {},
     "output_type": "execute_result"
    }
   ],
   "source": [
    "# check initial_list_status column\n",
    "clean_loan.initial_list_status.value_counts()"
   ]
  },
  {
   "cell_type": "code",
   "execution_count": 63,
   "metadata": {},
   "outputs": [],
   "source": [
    "#initial_list_status has the same value in across the rows. So droping this column.\n",
    "clean_loan = clean_loan.drop(\"initial_list_status\", axis=1)"
   ]
  },
  {
   "cell_type": "code",
   "execution_count": 64,
   "metadata": {},
   "outputs": [],
   "source": [
    "'''Removing the columns as these are not feasible for the analysis and not showing any correlation with the loan_Status\n",
    "emp_title: There are 27k unique values among 37k entries. We can neither group nor bin these.\n",
    "title: There are 18k unique values among 37k entries. We can neither group nor bin these.\n",
    "last_credit_pull_d: This isn't showing impact on the loan_status from the data as well as the domain perspective.\n",
    "zip_code: There are 809 unique values, grouped these as per the first number in the zip_code but still it isn't showing impact \n",
    "          on the loan_status.\n",
    " '''\n",
    "clean_loan = clean_loan.drop(['emp_title','title','last_credit_pull_d','zip_code'],axis =1)"
   ]
  },
  {
   "cell_type": "code",
   "execution_count": 65,
   "metadata": {},
   "outputs": [
    {
     "data": {
      "text/plain": [
       "(37869, 22)"
      ]
     },
     "execution_count": 65,
     "metadata": {},
     "output_type": "execute_result"
    }
   ],
   "source": [
    "#reset the index and check shape again\n",
    "clean_loan.reset_index(inplace=True, drop=True)\n",
    "clean_loan.shape"
   ]
  },
  {
   "cell_type": "code",
   "execution_count": 66,
   "metadata": {},
   "outputs": [],
   "source": [
    "#function for binning continuous varaible into the verylow, low, Medium, High and Very High bins using the quantiles.\n",
    "def create_bins(column_name):\n",
    "    bin_labels_5 = ['VL','L', 'M', 'H','VH'] # Very Low, Low, Medium, High, Very High\n",
    "    bin_column_name = column_name+\"_bins\"\n",
    "    clean_loan[bin_column_name], bins = pd.qcut(clean_loan[column_name],\n",
    "                              q = [0, 0.2, 0.4, 0.6, 0.8, 1],\n",
    "                              labels=bin_labels_5,retbins = True)"
   ]
  },
  {
   "cell_type": "code",
   "execution_count": 67,
   "metadata": {},
   "outputs": [],
   "source": [
    "'''The dervied metric has been created for the following columns using the binning. \n",
    "The bins are Very low, low, medium, high and very high and they has been created using the quantiles.\n",
    "\n",
    "funded_amnt_inv: It's the funded amount for the loan.\n",
    "int_rate: Interest rate charged on the loan.\n",
    "annual_inc: Annual income of the borrower.\n",
    "dti: debt to income ratio of the borrower.\n",
    "total_acc: Number of credit accounts that the borrower has.\n",
    "open_acc: Number of open accounts that the borrower has.\n",
    "installment: installment amount for the loan.'''\n",
    "\n",
    "ColumnNamesForBinning = ['funded_amnt_inv', 'int_rate',\n",
    "                         'annual_inc', 'dti', 'total_acc','open_acc','installment']"
   ]
  },
  {
   "cell_type": "code",
   "execution_count": 68,
   "metadata": {},
   "outputs": [],
   "source": [
    "#Binning the columns\n",
    "for column in ColumnNamesForBinning:\n",
    "    create_bins(column)"
   ]
  },
  {
   "cell_type": "code",
   "execution_count": 69,
   "metadata": {},
   "outputs": [],
   "source": [
    "#Changing the issue_d to the datetime\n",
    "clean_loan.issue_d = pd.to_datetime(clean_loan.issue_d, format='%b-%y')"
   ]
  },
  {
   "cell_type": "code",
   "execution_count": 70,
   "metadata": {},
   "outputs": [],
   "source": [
    "#Deriving the year from the issue_d column\n",
    "clean_loan['year'] = clean_loan.issue_d.dt.year"
   ]
  },
  {
   "cell_type": "code",
   "execution_count": 71,
   "metadata": {},
   "outputs": [],
   "source": [
    "#Deriving the month from the issue_d column\n",
    "clean_loan['month'] = clean_loan.issue_d.dt.month"
   ]
  },
  {
   "cell_type": "code",
   "execution_count": 72,
   "metadata": {},
   "outputs": [],
   "source": [
    "#Deriving the year from the earliest credit line. Deriving the month isn't useful as per the data as well as the domain.\n",
    "clean_loan['earliest_cr_line_year'] = clean_loan.earliest_cr_line.apply(lambda x: x[4:])"
   ]
  },
  {
   "cell_type": "code",
   "execution_count": 73,
   "metadata": {},
   "outputs": [],
   "source": [
    "'''Function to print the impact of the variable on the Loan_status\n",
    "This function takes the columnName as an input and calculates the default% (mean of the loan_status) for each value \n",
    "of the column and returns the impact of the column on the loan_status.\n",
    "The impact is calculated as the difference of the maximum mean and minimum mean of the loan_status\n",
    "'''\n",
    "def impact_of_the_variable(ColumnName):\n",
    "    pt = pd.pivot_table(clean_loan, values='loan_status', index=ColumnName, aggfunc=np.mean)\n",
    "    #print(pt)\n",
    "    return pt.max()-pt.min()"
   ]
  },
  {
   "cell_type": "code",
   "execution_count": 74,
   "metadata": {},
   "outputs": [],
   "source": [
    "''' Not taking the below columns for the impact analysis\n",
    "funded_amnt_inv, int_rate, installment, annual_inc, total_acc, open_acc, dti : Bins are created for this column.\n",
    "                                                                               and using those columns for the impact analysis.\n",
    "id: This is the unique column for the dataset. So not using this for the impact analysis.\n",
    "issue_d: Derived the month and year from this column and using those columns for the impact analysis.\n",
    "loan_status: This is the target variable. So not using this for the impact analysis\n",
    "earliest_cr_line: Derived the year from this column and using this that column for the impact analysis.\n",
    "'''\n",
    "Columns_not_used_for_impact_analysis=  ['id','funded_amnt_inv','int_rate','installment','annual_inc','issue_d','loan_status',\n",
    "                                        'dti','open_acc','total_acc','earliest_cr_line']"
   ]
  },
  {
   "cell_type": "code",
   "execution_count": 75,
   "metadata": {},
   "outputs": [],
   "source": [
    "#Getting all the columns\n",
    "All_columns = list(clean_loan.columns)\n",
    "#Removing the columns which are not used for the impact analysis from all the columns\n",
    "Columns_for_impact_analysis = [x for x in All_columns if x not in Columns_not_used_for_impact_analysis]"
   ]
  },
  {
   "cell_type": "code",
   "execution_count": 76,
   "metadata": {},
   "outputs": [
    {
     "data": {
      "text/html": [
       "<div>\n",
       "<style scoped>\n",
       "    .dataframe tbody tr th:only-of-type {\n",
       "        vertical-align: middle;\n",
       "    }\n",
       "\n",
       "    .dataframe tbody tr th {\n",
       "        vertical-align: top;\n",
       "    }\n",
       "\n",
       "    .dataframe thead th {\n",
       "        text-align: right;\n",
       "    }\n",
       "</style>\n",
       "<table border=\"1\" class=\"dataframe\">\n",
       "  <thead>\n",
       "    <tr style=\"text-align: right;\">\n",
       "      <th></th>\n",
       "      <th>Variable</th>\n",
       "      <th>impact</th>\n",
       "    </tr>\n",
       "  </thead>\n",
       "  <tbody>\n",
       "    <tr>\n",
       "      <th>2</th>\n",
       "      <td>sub_grade</td>\n",
       "      <td>0.450882</td>\n",
       "    </tr>\n",
       "    <tr>\n",
       "      <th>20</th>\n",
       "      <td>earliest_cr_line_year</td>\n",
       "      <td>0.400000</td>\n",
       "    </tr>\n",
       "    <tr>\n",
       "      <th>1</th>\n",
       "      <td>grade</td>\n",
       "      <td>0.279877</td>\n",
       "    </tr>\n",
       "    <tr>\n",
       "      <th>10</th>\n",
       "      <td>pub_rec_bankruptcies</td>\n",
       "      <td>0.258144</td>\n",
       "    </tr>\n",
       "    <tr>\n",
       "      <th>7</th>\n",
       "      <td>addr_state</td>\n",
       "      <td>0.226891</td>\n",
       "    </tr>\n",
       "    <tr>\n",
       "      <th>9</th>\n",
       "      <td>pub_rec</td>\n",
       "      <td>0.226179</td>\n",
       "    </tr>\n",
       "    <tr>\n",
       "      <th>12</th>\n",
       "      <td>int_rate_bins</td>\n",
       "      <td>0.210102</td>\n",
       "    </tr>\n",
       "    <tr>\n",
       "      <th>8</th>\n",
       "      <td>inq_last_6mths</td>\n",
       "      <td>0.172135</td>\n",
       "    </tr>\n",
       "    <tr>\n",
       "      <th>6</th>\n",
       "      <td>purpose</td>\n",
       "      <td>0.166046</td>\n",
       "    </tr>\n",
       "    <tr>\n",
       "      <th>18</th>\n",
       "      <td>year</td>\n",
       "      <td>0.159865</td>\n",
       "    </tr>\n",
       "    <tr>\n",
       "      <th>0</th>\n",
       "      <td>term</td>\n",
       "      <td>0.143531</td>\n",
       "    </tr>\n",
       "    <tr>\n",
       "      <th>13</th>\n",
       "      <td>annual_inc_bins</td>\n",
       "      <td>0.075811</td>\n",
       "    </tr>\n",
       "    <tr>\n",
       "      <th>11</th>\n",
       "      <td>funded_amnt_inv_bins</td>\n",
       "      <td>0.053314</td>\n",
       "    </tr>\n",
       "    <tr>\n",
       "      <th>4</th>\n",
       "      <td>home_ownership</td>\n",
       "      <td>0.047676</td>\n",
       "    </tr>\n",
       "    <tr>\n",
       "      <th>14</th>\n",
       "      <td>dti_bins</td>\n",
       "      <td>0.046965</td>\n",
       "    </tr>\n",
       "    <tr>\n",
       "      <th>5</th>\n",
       "      <td>verification_status</td>\n",
       "      <td>0.041499</td>\n",
       "    </tr>\n",
       "    <tr>\n",
       "      <th>19</th>\n",
       "      <td>month</td>\n",
       "      <td>0.037946</td>\n",
       "    </tr>\n",
       "    <tr>\n",
       "      <th>3</th>\n",
       "      <td>emp_length</td>\n",
       "      <td>0.033627</td>\n",
       "    </tr>\n",
       "    <tr>\n",
       "      <th>17</th>\n",
       "      <td>installment_bins</td>\n",
       "      <td>0.031053</td>\n",
       "    </tr>\n",
       "    <tr>\n",
       "      <th>15</th>\n",
       "      <td>total_acc_bins</td>\n",
       "      <td>0.028052</td>\n",
       "    </tr>\n",
       "    <tr>\n",
       "      <th>16</th>\n",
       "      <td>open_acc_bins</td>\n",
       "      <td>0.010841</td>\n",
       "    </tr>\n",
       "  </tbody>\n",
       "</table>\n",
       "</div>"
      ],
      "text/plain": [
       "                 Variable    impact\n",
       "2               sub_grade  0.450882\n",
       "20  earliest_cr_line_year  0.400000\n",
       "1                   grade  0.279877\n",
       "10   pub_rec_bankruptcies  0.258144\n",
       "7              addr_state  0.226891\n",
       "9                 pub_rec  0.226179\n",
       "12          int_rate_bins  0.210102\n",
       "8          inq_last_6mths  0.172135\n",
       "6                 purpose  0.166046\n",
       "18                   year  0.159865\n",
       "0                    term  0.143531\n",
       "13        annual_inc_bins  0.075811\n",
       "11   funded_amnt_inv_bins  0.053314\n",
       "4          home_ownership  0.047676\n",
       "14               dti_bins  0.046965\n",
       "5     verification_status  0.041499\n",
       "19                  month  0.037946\n",
       "3              emp_length  0.033627\n",
       "17       installment_bins  0.031053\n",
       "15         total_acc_bins  0.028052\n",
       "16          open_acc_bins  0.010841"
      ]
     },
     "execution_count": 76,
     "metadata": {},
     "output_type": "execute_result"
    }
   ],
   "source": [
    "#Creating the impact table\n",
    "impact_table = []\n",
    "for column in Columns_for_impact_analysis:\n",
    "    impact_table.append([column,impact_of_the_variable(column)[0]])\n",
    "impact_table = pd.DataFrame(impact_table,columns = ['Variable','impact'])\n",
    "impact_table.sort_values(by = 'impact',ascending = False)"
   ]
  },
  {
   "cell_type": "markdown",
   "metadata": {},
   "source": [
    "All the columns has been sorted in their impact order on the loan_status. Let's explore (in the same order) about each of this column in the univariate analysis."
   ]
  },
  {
   "cell_type": "code",
   "execution_count": 77,
   "metadata": {},
   "outputs": [
    {
     "data": {
      "text/plain": [
       "15.0"
      ]
     },
     "execution_count": 77,
     "metadata": {},
     "output_type": "execute_result"
    }
   ],
   "source": [
    "# percentage of default in the entire cleaned dataset\n",
    "round(np.mean(clean_loan.loan_status),2)*100"
   ]
  },
  {
   "cell_type": "code",
   "execution_count": 78,
   "metadata": {},
   "outputs": [
    {
     "data": {
      "text/plain": [
       "<AxesSubplot:xlabel='sub_grade', ylabel='loan_status'>"
      ]
     },
     "execution_count": 78,
     "metadata": {},
     "output_type": "execute_result"
    },
    {
     "data": {
      "image/png": "[encoded data removed]",
      "text/plain": [
       "<Figure size 864x576 with 1 Axes>"
      ]
     },
     "metadata": {
      "needs_background": "light"
     },
     "output_type": "display_data"
    }
   ],
   "source": [
    "#Plotting the default probablitiy against the sub_grade\n",
    "plt.figure(figsize=(12,8))\n",
    "sns.barplot(x=clean_loan.sub_grade,y=clean_loan.loan_status,order = sorted(clean_loan.sub_grade.unique()))"
   ]
  },
  {
   "cell_type": "markdown",
   "metadata": {},
   "source": [
    "From the above plot, it is clear that the deafult probability is mostly increasing with the sub_grade. And it is also confirmed with the impact table. So we **can consider this as the important driver variable.**"
   ]
  },
  {
   "cell_type": "code",
   "execution_count": 79,
   "metadata": {},
   "outputs": [
    {
     "data": {
      "text/plain": [
       "<AxesSubplot:xlabel='earliest_cr_line_year', ylabel='loan_status'>"
      ]
     },
     "execution_count": 79,
     "metadata": {},
     "output_type": "execute_result"
    },
    {
     "data": {
      "image/png": "[encoded data removed]",
      "text/plain": [
       "<Figure size 1152x576 with 1 Axes>"
      ]
     },
     "metadata": {
      "needs_background": "light"
     },
     "output_type": "display_data"
    }
   ],
   "source": [
    "#plotting the default probablitiy against the earliest_cr_line_year\n",
    "plt.figure(figsize=(16,8))\n",
    "sns.barplot(data = clean_loan, x = 'earliest_cr_line_year',y = 'loan_status',\n",
    "            order = sorted(clean_loan.earliest_cr_line_year.unique()))"
   ]
  },
  {
   "cell_type": "markdown",
   "metadata": {},
   "source": [
    "From the above plot, it is clear that the default probability is high when the candidate earliest credit line is before the 1968. And the default probabalitiy is same across the other years. Hence we **can't treate this as the important driver variable** but we can present this observation."
   ]
  },
  {
   "cell_type": "code",
   "execution_count": 80,
   "metadata": {},
   "outputs": [
    {
     "data": {
      "text/plain": [
       "<AxesSubplot:xlabel='grade', ylabel='loan_status'>"
      ]
     },
     "execution_count": 80,
     "metadata": {},
     "output_type": "execute_result"
    },
    {
     "data": {
      "image/png": "[encoded data removed]",
      "text/plain": [
       "<Figure size 432x288 with 1 Axes>"
      ]
     },
     "metadata": {
      "needs_background": "light"
     },
     "output_type": "display_data"
    }
   ],
   "source": [
    "#plotting the default probablitiy against the grade\n",
    "sns.barplot(x=clean_loan.grade,y=clean_loan.loan_status, order = sorted(clean_loan['grade'].unique()))"
   ]
  },
  {
   "cell_type": "markdown",
   "metadata": {},
   "source": [
    "From the above plot, it is clear that the deafult probability is mostly increasing with the grade. And it is also confirmed with the impact table. So we **can consider this as the important driver variable.**"
   ]
  },
  {
   "cell_type": "code",
   "execution_count": 81,
   "metadata": {},
   "outputs": [
    {
     "data": {
      "text/plain": [
       "<AxesSubplot:xlabel='pub_rec_bankruptcies', ylabel='loan_status'>"
      ]
     },
     "execution_count": 81,
     "metadata": {},
     "output_type": "execute_result"
    },
    {
     "data": {
      "image/png": "[encoded data removed]",
      "text/plain": [
       "<Figure size 432x288 with 1 Axes>"
      ]
     },
     "metadata": {
      "needs_background": "light"
     },
     "output_type": "display_data"
    }
   ],
   "source": [
    "#plotting the default probablitiy against the pub_rec_bankruptcies\n",
    "sns.barplot(data = clean_loan, x = 'pub_rec_bankruptcies',y = 'loan_status')"
   ]
  },
  {
   "cell_type": "code",
   "execution_count": 82,
   "metadata": {},
   "outputs": [
    {
     "data": {
      "text/plain": [
       "0.0    36227\n",
       "1.0     1637\n",
       "2.0        5\n",
       "Name: pub_rec_bankruptcies, dtype: int64"
      ]
     },
     "execution_count": 82,
     "metadata": {},
     "output_type": "execute_result"
    }
   ],
   "source": [
    "#Checking the value_counts of the pub_rec_bankruptcies\n",
    "clean_loan.pub_rec_bankruptcies.value_counts()"
   ]
  },
  {
   "cell_type": "markdown",
   "metadata": {},
   "source": [
    "From the above plot, it is clear that the default probability is high when the candidate has the history of the bankruptcies. But we have very less datapoints when there is a bankruptcy. Hence we **can't treat this as the important driver variable but we can present this observation**"
   ]
  },
  {
   "cell_type": "code",
   "execution_count": 83,
   "metadata": {},
   "outputs": [
    {
     "data": {
      "text/plain": [
       "<AxesSubplot:xlabel='addr_state', ylabel='loan_status'>"
      ]
     },
     "execution_count": 83,
     "metadata": {},
     "output_type": "execute_result"
    },
    {
     "data": {
      "image/png": "[encoded data removed]",
      "text/plain": [
       "<Figure size 1152x576 with 1 Axes>"
      ]
     },
     "metadata": {
      "needs_background": "light"
     },
     "output_type": "display_data"
    }
   ],
   "source": [
    "#plotting the default probablitiy against the addr_state\n",
    "plt.figure(figsize=(16,8))\n",
    "sns.barplot(data = clean_loan, x = 'addr_state', y = 'loan_status')"
   ]
  },
  {
   "cell_type": "markdown",
   "metadata": {},
   "source": [
    "From the above plot, it is clear that the default probability is high in few states such as the NV, AK, SD and TN. And the default probabalitiy is same across the other states. Hence we **can't treate this as the important driver variable but we can present this observation.**"
   ]
  },
  {
   "cell_type": "code",
   "execution_count": 84,
   "metadata": {},
   "outputs": [
    {
     "data": {
      "text/plain": [
       "<AxesSubplot:xlabel='pub_rec', ylabel='loan_status'>"
      ]
     },
     "execution_count": 84,
     "metadata": {},
     "output_type": "execute_result"
    },
    {
     "data": {
      "image/png": "[encoded data removed]",
      "text/plain": [
       "<Figure size 432x288 with 1 Axes>"
      ]
     },
     "metadata": {
      "needs_background": "light"
     },
     "output_type": "display_data"
    }
   ],
   "source": [
    "#plotting the default probablitiy against the pub_rec\n",
    "sns.barplot(data = clean_loan, x = 'pub_rec',y = 'loan_status')"
   ]
  },
  {
   "cell_type": "code",
   "execution_count": 85,
   "metadata": {},
   "outputs": [
    {
     "data": {
      "text/plain": [
       "0    35819\n",
       "1     1994\n",
       "2       47\n",
       "3        7\n",
       "4        2\n",
       "Name: pub_rec, dtype: int64"
      ]
     },
     "execution_count": 85,
     "metadata": {},
     "output_type": "execute_result"
    }
   ],
   "source": [
    "#Checking the pub_rec of the pub_rec_bankruptcies\n",
    "clean_loan.pub_rec.value_counts()"
   ]
  },
  {
   "cell_type": "markdown",
   "metadata": {},
   "source": [
    "From the above plot, it is clear that the default probability is high when the candidate has the history of the derogatory public records. But we have very less datapoints when there is a derogatory record. Hence we **can't treat this as the important driver variable but we can present this observation**"
   ]
  },
  {
   "cell_type": "code",
   "execution_count": 86,
   "metadata": {},
   "outputs": [
    {
     "data": {
      "text/plain": [
       "<AxesSubplot:xlabel='int_rate_bins', ylabel='loan_status'>"
      ]
     },
     "execution_count": 86,
     "metadata": {},
     "output_type": "execute_result"
    },
    {
     "data": {
      "image/png": "[encoded data removed]",
      "text/plain": [
       "<Figure size 432x288 with 1 Axes>"
      ]
     },
     "metadata": {
      "needs_background": "light"
     },
     "output_type": "display_data"
    }
   ],
   "source": [
    "#plotting the default probablitiy against the int_rate_bins\n",
    "sns.barplot(x=clean_loan.int_rate_bins,y=clean_loan.loan_status)"
   ]
  },
  {
   "cell_type": "markdown",
   "metadata": {},
   "source": [
    "From the above plot, it is clear that the deafult probability is mostly increasing with the int_rate_bins. And it is also confirmed with the impact table. So we **can consider this as the important driver variable.**"
   ]
  },
  {
   "cell_type": "code",
   "execution_count": 87,
   "metadata": {},
   "outputs": [
    {
     "data": {
      "text/plain": [
       "<AxesSubplot:xlabel='inq_last_6mths', ylabel='loan_status'>"
      ]
     },
     "execution_count": 87,
     "metadata": {},
     "output_type": "execute_result"
    },
    {
     "data": {
      "image/png": "[encoded data removed]",
      "text/plain": [
       "<Figure size 432x288 with 1 Axes>"
      ]
     },
     "metadata": {
      "needs_background": "light"
     },
     "output_type": "display_data"
    }
   ],
   "source": [
    "#plotting the default probablitiy against the inq_last_6mths\n",
    "sns.barplot(data = clean_loan, x = 'inq_last_6mths',y = 'loan_status')"
   ]
  },
  {
   "cell_type": "markdown",
   "metadata": {},
   "source": [
    "Even though the deafult probability is showing some pattern with the inq_last_6mths, it doesn't make sense to take this as the important driver variable from the domain point of view. Actually, loan probability doesn't depend on number of enquiries done. So we **can't treate this as the important driver variable.** "
   ]
  },
  {
   "cell_type": "code",
   "execution_count": 88,
   "metadata": {},
   "outputs": [
    {
     "data": {
      "text/plain": [
       "<AxesSubplot:xlabel='loan_status', ylabel='purpose'>"
      ]
     },
     "execution_count": 88,
     "metadata": {},
     "output_type": "execute_result"
    },
    {
     "data": {
      "image/png": "[encoded data removed]",
      "text/plain": [
       "<Figure size 1080x576 with 1 Axes>"
      ]
     },
     "metadata": {
      "needs_background": "light"
     },
     "output_type": "display_data"
    }
   ],
   "source": [
    "#plotting the default probablitiy against the purpose\n",
    "plt.figure(figsize=(15,8))\n",
    "sns.barplot(x=clean_loan.loan_status,y=clean_loan.purpose)"
   ]
  },
  {
   "cell_type": "markdown",
   "metadata": {},
   "source": [
    "From the above plot, it is clear that the deafult probability is varying significantly with the purpose of the loan. And it is also confirmed with the impact table. So we **can consider this as the important driver variable. For the Bivariate analysis we have considered all the purpose and not top 4/5 purposes.**"
   ]
  },
  {
   "cell_type": "code",
   "execution_count": 89,
   "metadata": {},
   "outputs": [
    {
     "data": {
      "text/plain": [
       "<AxesSubplot:xlabel='year', ylabel='loan_status'>"
      ]
     },
     "execution_count": 89,
     "metadata": {},
     "output_type": "execute_result"
    },
    {
     "data": {
      "image/png": "[encoded data removed]",
      "text/plain": [
       "<Figure size 432x288 with 1 Axes>"
      ]
     },
     "metadata": {
      "needs_background": "light"
     },
     "output_type": "display_data"
    }
   ],
   "source": [
    "#plotting the default probablitiy against the year\n",
    "sns.barplot(x=clean_loan.year,y=clean_loan.loan_status)"
   ]
  },
  {
   "cell_type": "markdown",
   "metadata": {},
   "source": [
    "From the above plot, it is clear that the default probability is high in the year of 2007. And the default probabalitiy is not varying much in the other years. Hence we **can't treate this as the important driver variable but we can present this observation.**"
   ]
  },
  {
   "cell_type": "code",
   "execution_count": 90,
   "metadata": {},
   "outputs": [
    {
     "data": {
      "text/plain": [
       "<AxesSubplot:xlabel='term', ylabel='loan_status'>"
      ]
     },
     "execution_count": 90,
     "metadata": {},
     "output_type": "execute_result"
    },
    {
     "data": {
      "image/png": "[encoded data removed]",
      "text/plain": [
       "<Figure size 432x288 with 1 Axes>"
      ]
     },
     "metadata": {
      "needs_background": "light"
     },
     "output_type": "display_data"
    }
   ],
   "source": [
    "#plotting the default probablitiy against the term\n",
    "sns.barplot(x=clean_loan.term,y=clean_loan.loan_status)"
   ]
  },
  {
   "cell_type": "markdown",
   "metadata": {},
   "source": [
    "From the above plot, it is clear that the deafult probability is mostly increasing with the term. And it is also confirmed with the impact table. So we **can consider this as the important driver variable.**"
   ]
  },
  {
   "cell_type": "code",
   "execution_count": 91,
   "metadata": {
    "scrolled": true
   },
   "outputs": [
    {
     "data": {
      "text/plain": [
       "<AxesSubplot:xlabel='annual_inc_bins', ylabel='loan_status'>"
      ]
     },
     "execution_count": 91,
     "metadata": {},
     "output_type": "execute_result"
    },
    {
     "data": {
      "image/png": "[encoded data removed]",
      "text/plain": [
       "<Figure size 432x288 with 1 Axes>"
      ]
     },
     "metadata": {
      "needs_background": "light"
     },
     "output_type": "display_data"
    }
   ],
   "source": [
    "#plotting the default probablitiy against the annual_inc_bins\n",
    "sns.barplot(x=clean_loan.annual_inc_bins,y=clean_loan.loan_status)"
   ]
  },
  {
   "cell_type": "markdown",
   "metadata": {},
   "source": [
    "From the above plot, it is clear that the deafult probability is mostly decreasing with the annual income. And it is one of the important variable from the domain perspective. So we **can consider this as the important driver variable.**"
   ]
  },
  {
   "cell_type": "code",
   "execution_count": 92,
   "metadata": {},
   "outputs": [
    {
     "data": {
      "text/plain": [
       "<AxesSubplot:xlabel='funded_amnt_inv_bins', ylabel='loan_status'>"
      ]
     },
     "execution_count": 92,
     "metadata": {},
     "output_type": "execute_result"
    },
    {
     "data": {
      "image/png": "[encoded data removed]",
      "text/plain": [
       "<Figure size 432x288 with 1 Axes>"
      ]
     },
     "metadata": {
      "needs_background": "light"
     },
     "output_type": "display_data"
    }
   ],
   "source": [
    "#plotting the default probablitiy against the funded_amnt_inv_bins\n",
    "sns.barplot(x=clean_loan.funded_amnt_inv_bins,y=clean_loan.loan_status)"
   ]
  },
  {
   "cell_type": "markdown",
   "metadata": {},
   "source": [
    "From the above plot, it is clear that the deafult probability is not changing with the funded amount. But it is one of the important variable from the domain perspective. So we **may consider this as the important driver variable.**"
   ]
  },
  {
   "cell_type": "code",
   "execution_count": 93,
   "metadata": {},
   "outputs": [
    {
     "data": {
      "text/plain": [
       "<AxesSubplot:xlabel='home_ownership', ylabel='loan_status'>"
      ]
     },
     "execution_count": 93,
     "metadata": {},
     "output_type": "execute_result"
    },
    {
     "data": {
      "image/png": "[encoded data removed]",
      "text/plain": [
       "<Figure size 432x288 with 1 Axes>"
      ]
     },
     "metadata": {
      "needs_background": "light"
     },
     "output_type": "display_data"
    }
   ],
   "source": [
    "#plotting the default probablitiy against the home_ownership\n",
    "sns.barplot(data = clean_loan, x = 'home_ownership',y = 'loan_status')"
   ]
  },
  {
   "cell_type": "markdown",
   "metadata": {},
   "source": [
    "From the above plot, it is clear that the deafult probability is not changing with the home ownership status. But it is one of the important variable from the domain perspective. So we **may consider this as the important driver variable.**"
   ]
  },
  {
   "cell_type": "code",
   "execution_count": 94,
   "metadata": {},
   "outputs": [
    {
     "data": {
      "text/plain": [
       "<AxesSubplot:xlabel='dti_bins', ylabel='loan_status'>"
      ]
     },
     "execution_count": 94,
     "metadata": {},
     "output_type": "execute_result"
    },
    {
     "data": {
      "image/png": "[encoded data removed]",
      "text/plain": [
       "<Figure size 432x288 with 1 Axes>"
      ]
     },
     "metadata": {
      "needs_background": "light"
     },
     "output_type": "display_data"
    }
   ],
   "source": [
    "#plotting the default probablitiy against the dti_bins\n",
    "sns.barplot(x=clean_loan.dti_bins,y=clean_loan.loan_status)"
   ]
  },
  {
   "cell_type": "markdown",
   "metadata": {},
   "source": [
    "From the above plot, it is clear that the deafult probability is mostly increasing with the debt to income ratio. And it is one of the important variable from the domain perspective. So we **can consider this as the important driver variable.**"
   ]
  },
  {
   "cell_type": "code",
   "execution_count": 95,
   "metadata": {},
   "outputs": [
    {
     "data": {
      "text/plain": [
       "<AxesSubplot:xlabel='verification_status', ylabel='loan_status'>"
      ]
     },
     "execution_count": 95,
     "metadata": {},
     "output_type": "execute_result"
    },
    {
     "data": {
      "image/png": "[encoded data removed]",
      "text/plain": [
       "<Figure size 432x288 with 1 Axes>"
      ]
     },
     "metadata": {
      "needs_background": "light"
     },
     "output_type": "display_data"
    }
   ],
   "source": [
    "#plotting the default probablitiy against the verification_status\n",
    "sns.barplot(x=clean_loan.verification_status,y=clean_loan.loan_status)"
   ]
  },
  {
   "cell_type": "markdown",
   "metadata": {},
   "source": [
    "From the above plot it is clear that the default probability is not changing with the verification_status. And it is also confirmed with the impact table. Hence we **can't consider this as the important driver variable.**"
   ]
  },
  {
   "cell_type": "code",
   "execution_count": 96,
   "metadata": {},
   "outputs": [
    {
     "data": {
      "text/plain": [
       "<AxesSubplot:xlabel='month', ylabel='loan_status'>"
      ]
     },
     "execution_count": 96,
     "metadata": {},
     "output_type": "execute_result"
    },
    {
     "data": {
      "image/png": "[encoded data removed]",
      "text/plain": [
       "<Figure size 864x576 with 1 Axes>"
      ]
     },
     "metadata": {
      "needs_background": "light"
     },
     "output_type": "display_data"
    }
   ],
   "source": [
    "#plotting the default probablitiy against the month\n",
    "plt.figure(figsize=(12,8))\n",
    "sns.barplot(x=clean_loan.month,y=clean_loan.loan_status)"
   ]
  },
  {
   "cell_type": "markdown",
   "metadata": {},
   "source": [
    "From the above plot it is clear that the default probability is not changing with the month. And it is also confirmed with the impact table. Hence we **can't consider this as the important driver variable.**"
   ]
  },
  {
   "cell_type": "code",
   "execution_count": 97,
   "metadata": {},
   "outputs": [
    {
     "data": {
      "text/plain": [
       "<AxesSubplot:xlabel='emp_length', ylabel='loan_status'>"
      ]
     },
     "execution_count": 97,
     "metadata": {},
     "output_type": "execute_result"
    },
    {
     "data": {
      "image/png": "[encoded data removed]",
      "text/plain": [
       "<Figure size 432x288 with 1 Axes>"
      ]
     },
     "metadata": {
      "needs_background": "light"
     },
     "output_type": "display_data"
    }
   ],
   "source": [
    "#plotting the default probablitiy against the emp_length\n",
    "sns.barplot(x=clean_loan.emp_length,y=clean_loan.loan_status)"
   ]
  },
  {
   "cell_type": "markdown",
   "metadata": {},
   "source": [
    "From the above plot it is clear that the default probability is not changing with the emp_length. And it is also confirmed with the impact table. Hence we **can't consider this as the important driver variable.**"
   ]
  },
  {
   "cell_type": "code",
   "execution_count": 98,
   "metadata": {},
   "outputs": [
    {
     "data": {
      "text/plain": [
       "<AxesSubplot:xlabel='installment_bins', ylabel='loan_status'>"
      ]
     },
     "execution_count": 98,
     "metadata": {},
     "output_type": "execute_result"
    },
    {
     "data": {
      "image/png": "[encoded data removed]",
      "text/plain": [
       "<Figure size 432x288 with 1 Axes>"
      ]
     },
     "metadata": {
      "needs_background": "light"
     },
     "output_type": "display_data"
    }
   ],
   "source": [
    "#plotting the default probablitiy against the installment_bins\n",
    "sns.barplot(x=clean_loan.installment_bins,y=clean_loan.loan_status)"
   ]
  },
  {
   "cell_type": "markdown",
   "metadata": {},
   "source": [
    "From the above plot it is clear that the default probability is not showing much correlation with the installment_bins. And it is also confirmed with the impact table. Even though it is the important variable from the domain perspective, as we already considering the 'debt to income ratio' and the 'funded amount' as the important driver variables, we **can safely skip this variable.**"
   ]
  },
  {
   "cell_type": "code",
   "execution_count": 99,
   "metadata": {},
   "outputs": [
    {
     "data": {
      "text/plain": [
       "<AxesSubplot:xlabel='total_acc_bins', ylabel='loan_status'>"
      ]
     },
     "execution_count": 99,
     "metadata": {},
     "output_type": "execute_result"
    },
    {
     "data": {
      "image/png": "[encoded data removed]",
      "text/plain": [
       "<Figure size 432x288 with 1 Axes>"
      ]
     },
     "metadata": {
      "needs_background": "light"
     },
     "output_type": "display_data"
    }
   ],
   "source": [
    "#plotting the default probablitiy against the total_acc_bins\n",
    "sns.barplot(x=clean_loan.total_acc_bins,y=clean_loan.loan_status)"
   ]
  },
  {
   "cell_type": "markdown",
   "metadata": {},
   "source": [
    "From the above plot it is clear that the default probability is not changing with the number of the credit accounts. And it is also confirmed with the impact table. Hence we **can't consider this as the important driver variable.**"
   ]
  },
  {
   "cell_type": "code",
   "execution_count": 100,
   "metadata": {},
   "outputs": [
    {
     "data": {
      "text/plain": [
       "<AxesSubplot:xlabel='open_acc_bins', ylabel='loan_status'>"
      ]
     },
     "execution_count": 100,
     "metadata": {},
     "output_type": "execute_result"
    },
    {
     "data": {
      "image/png": "[encoded data removed]",
      "text/plain": [
       "<Figure size 432x288 with 1 Axes>"
      ]
     },
     "metadata": {
      "needs_background": "light"
     },
     "output_type": "display_data"
    }
   ],
   "source": [
    "#plotting the default probablitiy against the open_acc_bins\n",
    "sns.barplot(x=clean_loan.open_acc_bins,y=clean_loan.loan_status)"
   ]
  },
  {
   "cell_type": "markdown",
   "metadata": {},
   "source": [
    "From the above plot it is clear that the default probability is not changing with the number of the currently opened credit accounts. And it is also confirmed with the impact table. Hence we **can't consider this as the important driver variable.**"
   ]
  },
  {
   "cell_type": "markdown",
   "metadata": {},
   "source": [
    "### Observations from the univariate analysis:\n",
    "\n",
    "- From the impact analysis and the further plots, we have identified the below the columns as the important driver variable for the loan status.\n",
    "    - sub_grade, grade, int_rate_bins, purpose, term, annual_inc_bins, dti_bins\n",
    "    - As sub_grade, grade and int_rate_bins are highly correlated. We can select anyone of the column and skip the remaining two. We have selected the int_rate_bins as the important driver varaible among this three.\n",
    "    \n",
    "    \n",
    "**So, the imporatant driver variables are**\n",
    "1. int_rate_bins : Default probability is monotonically increasing with the interest rate (Also with the Grade and Sub_Grade)\n",
    "2. purpose : High Default probability is more when the loan purpose is \"Small_Business\" - 0.26\n",
    "3. term : Default probability is 0.11 when the loan_term is 36 months and 0.25 when the loan_term is 60 months\n",
    "4. annual_inc_bins : Default probability is inversely proportional to the annual income.\n",
    "5. dti_bins : Default probability is increasing with the increase in the debt-to-income ratio.\n",
    "\n",
    "**Additionally, the below two columns are also showing some patterns with the loan_status and they're important from the domain point of view**\n",
    "1. funded_amnt_inv_bins :  Default probability is directly proportional to the loan amount\n",
    "2. home_ownership : Default probability is more when the home_ownership is \"other\"\n",
    "\n",
    "We will dig deep about these seven columns in the Bi-varaiate analysis.\n",
    "    \n",
    "    \n",
    "**Some of the remaining columns are showing more default probability in some of the values and those observations are as below.**\n",
    "1. The default probability is high when the candidate earliest credit line is before 1968. \n",
    "2. The default probability is high when the candidate has the history of the bankruptcies.\n",
    "3. The default probability is high in few states such as the NV, AK, SD and TN.\n",
    "4. The default probability is high when the candidate has the history of the derogatory public records\n",
    "5. The default probability is high in the year of 2007. And it might be the year that the lenden started their business. And going further they imporved their business so that the default % is not that much in the other years.\n",
    "6. The default probability is high when the candidate earliest credit line is before the 1968."
   ]
  },
  {
   "cell_type": "markdown",
   "metadata": {},
   "source": [
    "### 4. Bivariate analysis"
   ]
  },
  {
   "cell_type": "markdown",
   "metadata": {},
   "source": [
    "From the univariate analysis, we have seen that the default probability is changing heavily with the purpose. In the bivariate anlysis, we can see the patterns of the default probability against the purpose and the remaining important derived variables one-by-one."
   ]
  },
  {
   "cell_type": "code",
   "execution_count": 101,
   "metadata": {},
   "outputs": [
    {
     "data": {
      "text/plain": [
       "<AxesSubplot:xlabel='term'>"
      ]
     },
     "execution_count": 101,
     "metadata": {},
     "output_type": "execute_result"
    },
    {
     "data": {
      "image/png": "[encoded data removed]",
      "text/plain": [
       "<Figure size 864x720 with 1 Axes>"
      ]
     },
     "metadata": {
      "needs_background": "light"
     },
     "output_type": "display_data"
    }
   ],
   "source": [
    "# Plotting the loan_status against the term and the purpose\n",
    "var1=pd.pivot_table(data=clean_loan, columns='purpose', index='term',values='loan_status',aggfunc=np.mean)\n",
    "var1.plot(kind='bar',stacked=False,figsize=[12,10])"
   ]
  },
  {
   "cell_type": "markdown",
   "metadata": {},
   "source": [
    "From the above plot, it is clear that the default probability for the small_business purpose is high when the term is 36 months. And default probability is high for the debt_consolidation, educational, house, other, small business and the vacation purposes when the loan_term is 60 months."
   ]
  },
  {
   "cell_type": "code",
   "execution_count": 102,
   "metadata": {},
   "outputs": [
    {
     "data": {
      "text/plain": [
       "<AxesSubplot:xlabel='term'>"
      ]
     },
     "execution_count": 102,
     "metadata": {},
     "output_type": "execute_result"
    },
    {
     "data": {
      "image/png": "[encoded data removed]",
      "text/plain": [
       "<Figure size 864x720 with 1 Axes>"
      ]
     },
     "metadata": {
      "needs_background": "light"
     },
     "output_type": "display_data"
    }
   ],
   "source": [
    "# Plotting the loan_status against the term and the home_ownership\n",
    "var3=pd.pivot_table(data=clean_loan, columns='home_ownership', index='term',values='loan_status',aggfunc=np.mean)\n",
    "var3.plot(kind='bar',stacked=False,figsize=[12,10])"
   ]
  },
  {
   "cell_type": "markdown",
   "metadata": {},
   "source": [
    "From the above plot, it is crystal clear that the default probability is 1 when the home_ownership status is other and the term is 60 months. Even when the term is 36 months, the default probability in the high when the home_ownership status is other. But there is only one entry in this configuration (term = 60 months and home_ownership = other), and very less entries in the other home_ownership. So it is better to avoid the loans when the home_ownership is others."
   ]
  },
  {
   "cell_type": "code",
   "execution_count": 103,
   "metadata": {},
   "outputs": [
    {
     "data": {
      "text/html": [
       "<style  type=\"text/css\" >\n",
       "#T_22ccaf4a_3d44_11ec_a990_e8b3aa1b4643row0_col0,#T_22ccaf4a_3d44_11ec_a990_e8b3aa1b4643row1_col1,#T_22ccaf4a_3d44_11ec_a990_e8b3aa1b4643row2_col2,#T_22ccaf4a_3d44_11ec_a990_e8b3aa1b4643row3_col3,#T_22ccaf4a_3d44_11ec_a990_e8b3aa1b4643row4_col4,#T_22ccaf4a_3d44_11ec_a990_e8b3aa1b4643row5_col5,#T_22ccaf4a_3d44_11ec_a990_e8b3aa1b4643row6_col6{\n",
       "            background-color:  #b40426;\n",
       "            color:  #f1f1f1;\n",
       "        }#T_22ccaf4a_3d44_11ec_a990_e8b3aa1b4643row0_col1{\n",
       "            background-color:  #85a8fc;\n",
       "            color:  #000000;\n",
       "        }#T_22ccaf4a_3d44_11ec_a990_e8b3aa1b4643row0_col2,#T_22ccaf4a_3d44_11ec_a990_e8b3aa1b4643row5_col3{\n",
       "            background-color:  #4e68d8;\n",
       "            color:  #000000;\n",
       "        }#T_22ccaf4a_3d44_11ec_a990_e8b3aa1b4643row0_col3,#T_22ccaf4a_3d44_11ec_a990_e8b3aa1b4643row0_col4,#T_22ccaf4a_3d44_11ec_a990_e8b3aa1b4643row0_col6,#T_22ccaf4a_3d44_11ec_a990_e8b3aa1b4643row2_col5,#T_22ccaf4a_3d44_11ec_a990_e8b3aa1b4643row3_col1,#T_22ccaf4a_3d44_11ec_a990_e8b3aa1b4643row4_col0,#T_22ccaf4a_3d44_11ec_a990_e8b3aa1b4643row5_col2{\n",
       "            background-color:  #3b4cc0;\n",
       "            color:  #f1f1f1;\n",
       "        }#T_22ccaf4a_3d44_11ec_a990_e8b3aa1b4643row0_col5,#T_22ccaf4a_3d44_11ec_a990_e8b3aa1b4643row6_col5{\n",
       "            background-color:  #5b7ae5;\n",
       "            color:  #000000;\n",
       "        }#T_22ccaf4a_3d44_11ec_a990_e8b3aa1b4643row1_col0{\n",
       "            background-color:  #adc9fd;\n",
       "            color:  #000000;\n",
       "        }#T_22ccaf4a_3d44_11ec_a990_e8b3aa1b4643row1_col2{\n",
       "            background-color:  #9fbfff;\n",
       "            color:  #000000;\n",
       "        }#T_22ccaf4a_3d44_11ec_a990_e8b3aa1b4643row1_col3{\n",
       "            background-color:  #536edd;\n",
       "            color:  #000000;\n",
       "        }#T_22ccaf4a_3d44_11ec_a990_e8b3aa1b4643row1_col4{\n",
       "            background-color:  #6f92f3;\n",
       "            color:  #000000;\n",
       "        }#T_22ccaf4a_3d44_11ec_a990_e8b3aa1b4643row1_col5{\n",
       "            background-color:  #6a8bef;\n",
       "            color:  #000000;\n",
       "        }#T_22ccaf4a_3d44_11ec_a990_e8b3aa1b4643row1_col6{\n",
       "            background-color:  #a1c0ff;\n",
       "            color:  #000000;\n",
       "        }#T_22ccaf4a_3d44_11ec_a990_e8b3aa1b4643row2_col0{\n",
       "            background-color:  #6b8df0;\n",
       "            color:  #000000;\n",
       "        }#T_22ccaf4a_3d44_11ec_a990_e8b3aa1b4643row2_col1{\n",
       "            background-color:  #92b4fe;\n",
       "            color:  #000000;\n",
       "        }#T_22ccaf4a_3d44_11ec_a990_e8b3aa1b4643row2_col3{\n",
       "            background-color:  #8badfd;\n",
       "            color:  #000000;\n",
       "        }#T_22ccaf4a_3d44_11ec_a990_e8b3aa1b4643row2_col4{\n",
       "            background-color:  #7b9ff9;\n",
       "            color:  #000000;\n",
       "        }#T_22ccaf4a_3d44_11ec_a990_e8b3aa1b4643row2_col6{\n",
       "            background-color:  #c4d5f3;\n",
       "            color:  #000000;\n",
       "        }#T_22ccaf4a_3d44_11ec_a990_e8b3aa1b4643row3_col0{\n",
       "            background-color:  #506bda;\n",
       "            color:  #000000;\n",
       "        }#T_22ccaf4a_3d44_11ec_a990_e8b3aa1b4643row3_col2{\n",
       "            background-color:  #84a7fc;\n",
       "            color:  #000000;\n",
       "        }#T_22ccaf4a_3d44_11ec_a990_e8b3aa1b4643row3_col4,#T_22ccaf4a_3d44_11ec_a990_e8b3aa1b4643row5_col4,#T_22ccaf4a_3d44_11ec_a990_e8b3aa1b4643row6_col0{\n",
       "            background-color:  #688aef;\n",
       "            color:  #000000;\n",
       "        }#T_22ccaf4a_3d44_11ec_a990_e8b3aa1b4643row3_col5{\n",
       "            background-color:  #455cce;\n",
       "            color:  #f1f1f1;\n",
       "        }#T_22ccaf4a_3d44_11ec_a990_e8b3aa1b4643row3_col6{\n",
       "            background-color:  #6687ed;\n",
       "            color:  #000000;\n",
       "        }#T_22ccaf4a_3d44_11ec_a990_e8b3aa1b4643row4_col1{\n",
       "            background-color:  #4257c9;\n",
       "            color:  #f1f1f1;\n",
       "        }#T_22ccaf4a_3d44_11ec_a990_e8b3aa1b4643row4_col2{\n",
       "            background-color:  #5f7fe8;\n",
       "            color:  #000000;\n",
       "        }#T_22ccaf4a_3d44_11ec_a990_e8b3aa1b4643row4_col3{\n",
       "            background-color:  #5470de;\n",
       "            color:  #000000;\n",
       "        }#T_22ccaf4a_3d44_11ec_a990_e8b3aa1b4643row4_col5{\n",
       "            background-color:  #4b64d5;\n",
       "            color:  #f1f1f1;\n",
       "        }#T_22ccaf4a_3d44_11ec_a990_e8b3aa1b4643row4_col6{\n",
       "            background-color:  #4358cb;\n",
       "            color:  #f1f1f1;\n",
       "        }#T_22ccaf4a_3d44_11ec_a990_e8b3aa1b4643row5_col0{\n",
       "            background-color:  #799cf8;\n",
       "            color:  #000000;\n",
       "        }#T_22ccaf4a_3d44_11ec_a990_e8b3aa1b4643row5_col1{\n",
       "            background-color:  #5a78e4;\n",
       "            color:  #000000;\n",
       "        }#T_22ccaf4a_3d44_11ec_a990_e8b3aa1b4643row5_col6{\n",
       "            background-color:  #4a63d3;\n",
       "            color:  #f1f1f1;\n",
       "        }#T_22ccaf4a_3d44_11ec_a990_e8b3aa1b4643row6_col1{\n",
       "            background-color:  #a2c1ff;\n",
       "            color:  #000000;\n",
       "        }#T_22ccaf4a_3d44_11ec_a990_e8b3aa1b4643row6_col2{\n",
       "            background-color:  #cedaeb;\n",
       "            color:  #000000;\n",
       "        }#T_22ccaf4a_3d44_11ec_a990_e8b3aa1b4643row6_col3{\n",
       "            background-color:  #7ea1fa;\n",
       "            color:  #000000;\n",
       "        }#T_22ccaf4a_3d44_11ec_a990_e8b3aa1b4643row6_col4{\n",
       "            background-color:  #7295f4;\n",
       "            color:  #000000;\n",
       "        }</style><table id=\"T_22ccaf4a_3d44_11ec_a990_e8b3aa1b4643\" ><thead>    <tr>        <th class=\"blank level0\" ></th>        <th class=\"col_heading level0 col0\" >annual_inc</th>        <th class=\"col_heading level0 col1\" >funded_amnt_inv</th>        <th class=\"col_heading level0 col2\" >int_rate</th>        <th class=\"col_heading level0 col3\" >loan_status</th>        <th class=\"col_heading level0 col4\" >dti</th>        <th class=\"col_heading level0 col5\" >emp_length</th>        <th class=\"col_heading level0 col6\" >term</th>    </tr></thead><tbody>\n",
       "                <tr>\n",
       "                        <th id=\"T_22ccaf4a_3d44_11ec_a990_e8b3aa1b4643level0_row0\" class=\"row_heading level0 row0\" >annual_inc</th>\n",
       "                        <td id=\"T_22ccaf4a_3d44_11ec_a990_e8b3aa1b4643row0_col0\" class=\"data row0 col0\" >1.000000</td>\n",
       "                        <td id=\"T_22ccaf4a_3d44_11ec_a990_e8b3aa1b4643row0_col1\" class=\"data row0 col1\" >0.260097</td>\n",
       "                        <td id=\"T_22ccaf4a_3d44_11ec_a990_e8b3aa1b4643row0_col2\" class=\"data row0 col2\" >0.050105</td>\n",
       "                        <td id=\"T_22ccaf4a_3d44_11ec_a990_e8b3aa1b4643row0_col3\" class=\"data row0 col3\" >-0.042278</td>\n",
       "                        <td id=\"T_22ccaf4a_3d44_11ec_a990_e8b3aa1b4643row0_col4\" class=\"data row0 col4\" >-0.121270</td>\n",
       "                        <td id=\"T_22ccaf4a_3d44_11ec_a990_e8b3aa1b4643row0_col5\" class=\"data row0 col5\" >0.094810</td>\n",
       "                        <td id=\"T_22ccaf4a_3d44_11ec_a990_e8b3aa1b4643row0_col6\" class=\"data row0 col6\" >0.045012</td>\n",
       "            </tr>\n",
       "            <tr>\n",
       "                        <th id=\"T_22ccaf4a_3d44_11ec_a990_e8b3aa1b4643level0_row1\" class=\"row_heading level0 row1\" >funded_amnt_inv</th>\n",
       "                        <td id=\"T_22ccaf4a_3d44_11ec_a990_e8b3aa1b4643row1_col0\" class=\"data row1 col0\" >0.260097</td>\n",
       "                        <td id=\"T_22ccaf4a_3d44_11ec_a990_e8b3aa1b4643row1_col1\" class=\"data row1 col1\" >1.000000</td>\n",
       "                        <td id=\"T_22ccaf4a_3d44_11ec_a990_e8b3aa1b4643row1_col2\" class=\"data row1 col2\" >0.294831</td>\n",
       "                        <td id=\"T_22ccaf4a_3d44_11ec_a990_e8b3aa1b4643row1_col3\" class=\"data row1 col3\" >0.040634</td>\n",
       "                        <td id=\"T_22ccaf4a_3d44_11ec_a990_e8b3aa1b4643row1_col4\" class=\"data row1 col4\" >0.064727</td>\n",
       "                        <td id=\"T_22ccaf4a_3d44_11ec_a990_e8b3aa1b4643row1_col5\" class=\"data row1 col5\" >0.138106</td>\n",
       "                        <td id=\"T_22ccaf4a_3d44_11ec_a990_e8b3aa1b4643row1_col6\" class=\"data row1 col6\" >0.337273</td>\n",
       "            </tr>\n",
       "            <tr>\n",
       "                        <th id=\"T_22ccaf4a_3d44_11ec_a990_e8b3aa1b4643level0_row2\" class=\"row_heading level0 row2\" >int_rate</th>\n",
       "                        <td id=\"T_22ccaf4a_3d44_11ec_a990_e8b3aa1b4643row2_col0\" class=\"data row2 col0\" >0.050105</td>\n",
       "                        <td id=\"T_22ccaf4a_3d44_11ec_a990_e8b3aa1b4643row2_col1\" class=\"data row2 col1\" >0.294831</td>\n",
       "                        <td id=\"T_22ccaf4a_3d44_11ec_a990_e8b3aa1b4643row2_col2\" class=\"data row2 col2\" >1.000000</td>\n",
       "                        <td id=\"T_22ccaf4a_3d44_11ec_a990_e8b3aa1b4643row2_col3\" class=\"data row2 col3\" >0.212551</td>\n",
       "                        <td id=\"T_22ccaf4a_3d44_11ec_a990_e8b3aa1b4643row2_col4\" class=\"data row2 col4\" >0.105897</td>\n",
       "                        <td id=\"T_22ccaf4a_3d44_11ec_a990_e8b3aa1b4643row2_col5\" class=\"data row2 col5\" >-0.013823</td>\n",
       "                        <td id=\"T_22ccaf4a_3d44_11ec_a990_e8b3aa1b4643row2_col6\" class=\"data row2 col6\" >0.439614</td>\n",
       "            </tr>\n",
       "            <tr>\n",
       "                        <th id=\"T_22ccaf4a_3d44_11ec_a990_e8b3aa1b4643level0_row3\" class=\"row_heading level0 row3\" >loan_status</th>\n",
       "                        <td id=\"T_22ccaf4a_3d44_11ec_a990_e8b3aa1b4643row3_col0\" class=\"data row3 col0\" >-0.042278</td>\n",
       "                        <td id=\"T_22ccaf4a_3d44_11ec_a990_e8b3aa1b4643row3_col1\" class=\"data row3 col1\" >0.040634</td>\n",
       "                        <td id=\"T_22ccaf4a_3d44_11ec_a990_e8b3aa1b4643row3_col2\" class=\"data row3 col2\" >0.212551</td>\n",
       "                        <td id=\"T_22ccaf4a_3d44_11ec_a990_e8b3aa1b4643row3_col3\" class=\"data row3 col3\" >1.000000</td>\n",
       "                        <td id=\"T_22ccaf4a_3d44_11ec_a990_e8b3aa1b4643row3_col4\" class=\"data row3 col4\" >0.044865</td>\n",
       "                        <td id=\"T_22ccaf4a_3d44_11ec_a990_e8b3aa1b4643row3_col5\" class=\"data row3 col5\" >0.023017</td>\n",
       "                        <td id=\"T_22ccaf4a_3d44_11ec_a990_e8b3aa1b4643row3_col6\" class=\"data row3 col6\" >0.176362</td>\n",
       "            </tr>\n",
       "            <tr>\n",
       "                        <th id=\"T_22ccaf4a_3d44_11ec_a990_e8b3aa1b4643level0_row4\" class=\"row_heading level0 row4\" >dti</th>\n",
       "                        <td id=\"T_22ccaf4a_3d44_11ec_a990_e8b3aa1b4643row4_col0\" class=\"data row4 col0\" >-0.121270</td>\n",
       "                        <td id=\"T_22ccaf4a_3d44_11ec_a990_e8b3aa1b4643row4_col1\" class=\"data row4 col1\" >0.064727</td>\n",
       "                        <td id=\"T_22ccaf4a_3d44_11ec_a990_e8b3aa1b4643row4_col2\" class=\"data row4 col2\" >0.105897</td>\n",
       "                        <td id=\"T_22ccaf4a_3d44_11ec_a990_e8b3aa1b4643row4_col3\" class=\"data row4 col3\" >0.044865</td>\n",
       "                        <td id=\"T_22ccaf4a_3d44_11ec_a990_e8b3aa1b4643row4_col4\" class=\"data row4 col4\" >1.000000</td>\n",
       "                        <td id=\"T_22ccaf4a_3d44_11ec_a990_e8b3aa1b4643row4_col5\" class=\"data row4 col5\" >0.044097</td>\n",
       "                        <td id=\"T_22ccaf4a_3d44_11ec_a990_e8b3aa1b4643row4_col6\" class=\"data row4 col6\" >0.073340</td>\n",
       "            </tr>\n",
       "            <tr>\n",
       "                        <th id=\"T_22ccaf4a_3d44_11ec_a990_e8b3aa1b4643level0_row5\" class=\"row_heading level0 row5\" >emp_length</th>\n",
       "                        <td id=\"T_22ccaf4a_3d44_11ec_a990_e8b3aa1b4643row5_col0\" class=\"data row5 col0\" >0.094810</td>\n",
       "                        <td id=\"T_22ccaf4a_3d44_11ec_a990_e8b3aa1b4643row5_col1\" class=\"data row5 col1\" >0.138106</td>\n",
       "                        <td id=\"T_22ccaf4a_3d44_11ec_a990_e8b3aa1b4643row5_col2\" class=\"data row5 col2\" >-0.013823</td>\n",
       "                        <td id=\"T_22ccaf4a_3d44_11ec_a990_e8b3aa1b4643row5_col3\" class=\"data row5 col3\" >0.023017</td>\n",
       "                        <td id=\"T_22ccaf4a_3d44_11ec_a990_e8b3aa1b4643row5_col4\" class=\"data row5 col4\" >0.044097</td>\n",
       "                        <td id=\"T_22ccaf4a_3d44_11ec_a990_e8b3aa1b4643row5_col5\" class=\"data row5 col5\" >1.000000</td>\n",
       "                        <td id=\"T_22ccaf4a_3d44_11ec_a990_e8b3aa1b4643row5_col6\" class=\"data row5 col6\" >0.095806</td>\n",
       "            </tr>\n",
       "            <tr>\n",
       "                        <th id=\"T_22ccaf4a_3d44_11ec_a990_e8b3aa1b4643level0_row6\" class=\"row_heading level0 row6\" >term</th>\n",
       "                        <td id=\"T_22ccaf4a_3d44_11ec_a990_e8b3aa1b4643row6_col0\" class=\"data row6 col0\" >0.045012</td>\n",
       "                        <td id=\"T_22ccaf4a_3d44_11ec_a990_e8b3aa1b4643row6_col1\" class=\"data row6 col1\" >0.337273</td>\n",
       "                        <td id=\"T_22ccaf4a_3d44_11ec_a990_e8b3aa1b4643row6_col2\" class=\"data row6 col2\" >0.439614</td>\n",
       "                        <td id=\"T_22ccaf4a_3d44_11ec_a990_e8b3aa1b4643row6_col3\" class=\"data row6 col3\" >0.176362</td>\n",
       "                        <td id=\"T_22ccaf4a_3d44_11ec_a990_e8b3aa1b4643row6_col4\" class=\"data row6 col4\" >0.073340</td>\n",
       "                        <td id=\"T_22ccaf4a_3d44_11ec_a990_e8b3aa1b4643row6_col5\" class=\"data row6 col5\" >0.095806</td>\n",
       "                        <td id=\"T_22ccaf4a_3d44_11ec_a990_e8b3aa1b4643row6_col6\" class=\"data row6 col6\" >1.000000</td>\n",
       "            </tr>\n",
       "    </tbody></table>"
      ],
      "text/plain": [
       "<pandas.io.formats.style.Styler at 0x23e005c78b0>"
      ]
     },
     "execution_count": 103,
     "metadata": {},
     "output_type": "execute_result"
    }
   ],
   "source": [
    "#create a df with slected columns\n",
    "loan1 = clean_loan[['annual_inc','funded_amnt_inv','int_rate','loan_status','dti','emp_length','term']]\n",
    "corr = loan1.corr()\n",
    "corr.style.background_gradient(cmap='coolwarm')"
   ]
  },
  {
   "cell_type": "markdown",
   "metadata": {},
   "source": [
    "From the above plot, it is clear that the loan amount is positively correlated with the annual income and the interest rate. And loan amount, interest rate are positively correlated with the term."
   ]
  },
  {
   "cell_type": "code",
   "execution_count": 104,
   "metadata": {},
   "outputs": [
    {
     "data": {
      "text/plain": [
       "<AxesSubplot:xlabel='int_rate_bins', ylabel='purpose'>"
      ]
     },
     "execution_count": 104,
     "metadata": {},
     "output_type": "execute_result"
    },
    {
     "data": {
      "image/png": "[encoded data removed]",
      "text/plain": [
       "<Figure size 432x288 with 2 Axes>"
      ]
     },
     "metadata": {
      "needs_background": "light"
     },
     "output_type": "display_data"
    }
   ],
   "source": [
    "# Plotting the loan_status against the term and the int_rate_bins\n",
    "heat1 = pd.pivot_table(data=clean_loan, index='purpose', columns='int_rate_bins', values='loan_status')\n",
    "sns.heatmap(heat1, cmap=\"Greens\", annot=True)"
   ]
  },
  {
   "cell_type": "markdown",
   "metadata": {},
   "source": [
    "From the above plot, it is clear that mostly all the purposes are showing high default probability when the interest rate is too high. In general Educational loan, house, other and the small_business with very high interest rate, small business with medium and high interest rate and renewal energy and house with high interest rate are showing more default probability."
   ]
  },
  {
   "cell_type": "code",
   "execution_count": 105,
   "metadata": {},
   "outputs": [
    {
     "data": {
      "text/plain": [
       "<AxesSubplot:xlabel='annual_inc_bins', ylabel='purpose'>"
      ]
     },
     "execution_count": 105,
     "metadata": {},
     "output_type": "execute_result"
    },
    {
     "data": {
      "image/png": "[encoded data removed]",
      "text/plain": [
       "<Figure size 432x288 with 2 Axes>"
      ]
     },
     "metadata": {
      "needs_background": "light"
     },
     "output_type": "display_data"
    }
   ],
   "source": [
    "# Plotting the loan_status against the term and the annual_inc_bins\n",
    "heat2 = pd.pivot_table(data=clean_loan, index='purpose', columns='annual_inc_bins', values='loan_status')\n",
    "sns.heatmap(heat2, cmap=\"Greens\", annot=True)"
   ]
  },
  {
   "cell_type": "markdown",
   "metadata": {},
   "source": [
    "The high income group for all purpose is relatively safe to lend money.\n",
    "The small_business is showing high default probabilty in all income group except very high income group.\n",
    "Loan with purpose renewal_energy is showing high chance of default with very low, low and high income bracket."
   ]
  },
  {
   "cell_type": "code",
   "execution_count": 106,
   "metadata": {},
   "outputs": [
    {
     "data": {
      "text/plain": [
       "<AxesSubplot:xlabel='dti_bins', ylabel='purpose'>"
      ]
     },
     "execution_count": 106,
     "metadata": {},
     "output_type": "execute_result"
    },
    {
     "data": {
      "image/png": "[encoded data removed]",
      "text/plain": [
       "<Figure size 432x288 with 2 Axes>"
      ]
     },
     "metadata": {
      "needs_background": "light"
     },
     "output_type": "display_data"
    }
   ],
   "source": [
    "# Plotting the loan_status against the term and the dti_bins\n",
    "heat2 = pd.pivot_table(data=clean_loan, index='purpose', columns='dti_bins', values='loan_status')\n",
    "sns.heatmap(heat2, cmap=\"Greens\", annot=True)"
   ]
  },
  {
   "cell_type": "markdown",
   "metadata": {},
   "source": [
    "Small-buiness loan is showing high default in all debt to income ration category.\n",
    "The high probability of default is for education loan with very high debt to income ratio."
   ]
  },
  {
   "cell_type": "code",
   "execution_count": 107,
   "metadata": {},
   "outputs": [
    {
     "data": {
      "text/plain": [
       "<AxesSubplot:xlabel='funded_amnt_inv_bins', ylabel='purpose'>"
      ]
     },
     "execution_count": 107,
     "metadata": {},
     "output_type": "execute_result"
    },
    {
     "data": {
      "image/png": "[encoded data removed]",
      "text/plain": [
       "<Figure size 432x288 with 2 Axes>"
      ]
     },
     "metadata": {
      "needs_background": "light"
     },
     "output_type": "display_data"
    }
   ],
   "source": [
    "# Plotting the loan_status against the term and the funded_amnt_inv_bins\n",
    "heat3 = pd.pivot_table(data=clean_loan, index='purpose', columns='funded_amnt_inv_bins', values='loan_status')\n",
    "sns.heatmap(heat3, cmap=\"Greens\", annot=True)"
   ]
  }
 ],
 "metadata": {
  "kernelspec": {
   "display_name": "Python 3",
   "language": "python",
   "name": "python3"
  },
  "language_info": {
   "codemirror_mode": {
    "name": "ipython",
    "version": 3
   },
   "file_extension": ".py",
   "mimetype": "text/x-python",
   "name": "python",
   "nbconvert_exporter": "python",
   "pygments_lexer": "ipython3",
   "version": "3.8.5"
  }
 },
 "nbformat": 4,
 "nbformat_minor": 4
}
